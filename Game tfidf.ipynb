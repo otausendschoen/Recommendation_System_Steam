{
 "cells": [
  {
   "cell_type": "code",
   "execution_count": 37,
   "metadata": {},
   "outputs": [],
   "source": [
    "import pandas as pd\n",
    "from sklearn.feature_extraction.text import TfidfVectorizer\n"
   ]
  },
  {
   "cell_type": "code",
   "execution_count": 38,
   "metadata": {},
   "outputs": [],
   "source": [
    "game_reviews = pd.read_csv(\"all_Steam_Reviews_cleaned.csv\")\n",
    "pos_reviews=pd.read_csv(\"positive_steam_reviews.csv\")\n",
    "neg_reviews=pd.read_csv(\"negative_steam_reviews.csv\")"
   ]
  },
  {
   "cell_type": "code",
   "execution_count": 39,
   "metadata": {},
   "outputs": [
    {
     "data": {
      "application/vnd.microsoft.datawrangler.viewer.v0+json": {
       "columns": [
        {
         "name": "index",
         "rawType": "int64",
         "type": "integer"
        },
        {
         "name": "Game",
         "rawType": "object",
         "type": "string"
        },
        {
         "name": "Review",
         "rawType": "object",
         "type": "unknown"
        },
        {
         "name": "Recommended",
         "rawType": "bool",
         "type": "boolean"
        },
        {
         "name": "Genre",
         "rawType": "object",
         "type": "string"
        },
        {
         "name": "cleaned_review",
         "rawType": "object",
         "type": "unknown"
        }
       ],
       "conversionMethod": "pd.DataFrame",
       "ref": "c706649f-e082-4584-913c-a1e155089355",
       "rows": [
        [
         "0",
         "Company of Heroes 3",
         "Here is my actual review. COH3 has the best QoL in the franchise. SO much so I stopped playing COH1 and 2. Both are favorites to me. But COH3 just feels better. Balance is in a much better state as well as the game. The game is taking longer to reach where it needs to be now with a smaller team, but it is a team that cares. This game received too much hate on launch because people compared to an almost 20 year old coh1, and a 10+ year old COH2. But base game to base game COH3 had so much more content than either game on launch. And its bolstered on to it.\n\nWith new commanders coming it should breath new life into the game. Relic has been doing a great job to the improvement of the game. It is personally my favorite RTS to date. I highly suggest you try this game, and do it with an open mind as its style does differ from traditional coh titles. But once you grasp it, it just becomes that much more fun then it ever was before.\n\nThe only thing COH3 is lacking is commander diversity which will come in time, and once we hit that level of content, COH1 and 2 will become completely irrelevant. So give it a try, do so with an open mind, and lets keep our beloved franchise alive!",
         "True",
         "Action, Strategy",
         "actual review COH good qol franchise stop play COH favorite COH feel well balance well state game game take long reach need small team team care game receive hate launch people compare year old coh year old COH base game base game COH content game launch bolster new commander come breath new life game Relic great job improvement game personally favorite RTS date highly suggest try game open mind style differ traditional coh title grasp fun thing COH lack commander diversity come time hit level content COH completely irrelevant try open mind let beloved franchise alive"
        ],
        [
         "1",
         "Company of Heroes 3",
         "I resisted for quite a while to buy this game as I didn't expect the game to be much different than CoH2...\n\nFinally remembered to play it for free during promotion days and after one evening I went and bought it.\n\nGame feels faster as the units are quicker to die, base building no longer requires engineers which feels nice and efficient and all in all the game feels surprisingly different compared to the predecessors while at the same time being even more fun.\n\nSure... It's not CoH 1 or 2... But if I want to play those, I actually go and play those so it's nice to see Relic still innovating and producing sequels that feel worthy of an actual new game.",
         "True",
         "Action, Strategy",
         "resist buy game not expect game different CoH finally remember play free promotion day evening go buy Game feel fast unit quick die base building long require engineer feel nice efficient game feel surprisingly different compare predecessor time fun sure CoH want play actually play nice Relic innovate produce sequel feel worthy actual new game"
        ],
        [
         "2",
         "Company of Heroes 3",
         "Final Thoughts\nCompany of Heroes 3 is a stunning evolution of the series, blending innovative features with the traditional tactical brilliance that fans have come to expect. The dynamic campaign, enhanced combat mechanics, and breathtaking visuals make it one of the best real-time strategy games available today. Whether you're a long-time fan or a newcomer to the series, Company of Heroes 3 delivers an experience that is both deeply strategic and incredibly rewarding.\n\nRelic Entertainment has once again proven why Company of Heroes remains one of the gold standards in the RTS genre. If you’re a fan of military strategy games, this is a title you absolutely cannot miss.",
         "True",
         "Action, Strategy",
         "final Thoughts Company Heroes stunning evolution series blend innovative feature traditional tactical brilliance fan come expect dynamic campaign enhance combat mechanic breathtaking visual good realtime strategy game available today longtime fan newcomer series Company Heroes deliver experience deeply strategic incredibly rewarding Relic Entertainment prove Company Heroes remain gold standard RTS genre fan military strategy game title absolutely miss"
        ],
        [
         "3",
         "Company of Heroes 3",
         "game has come a long way since release but can feel like a cash grab every time there is something added. new content is also very slow to come out. I have always loved COH and im still holding on for them to be better.",
         "True",
         "Action, Strategy",
         "game come long way release feel like cash grab time add new content slow come love COH m hold well"
        ],
        [
         "4",
         "Company of Heroes 3",
         "A great RTS that is going to get better with each major update - now is the time to start playing with the new DLC incoming. There are no other games like this on Steam!",
         "True",
         "Action, Strategy",
         "great RTS go well major update time start play new DLC income game like steam"
        ],
        [
         "5",
         "Company of Heroes 3",
         "I only play multiplayer and have owned the game since launch.  The game started out in more of a beta state and took quite a while to get the game in a respectable balance state so this is partly why this game isn't as highly rated.  At this point, the game is in a good state and is fun to play. Would recommend you check it out if you enjoy RTS games.",
         "True",
         "Action, Strategy",
         "play multiplayer own game launch game start beta state take game respectable balance state partly game not highly rate point game good state fun play recommend check enjoy RTS game"
        ],
        [
         "6",
         "Company of Heroes 3",
         "I had almost two thousand hours combined in the first CoH. This game reminds me of an updated CoH1 with better graphics/visuals while improving gameplay mechanics.",
         "True",
         "Action, Strategy",
         "thousand hour combine CoH game remind update CoH well graphicsvisual improve gameplay mechanic"
        ],
        [
         "7",
         "Company of Heroes 3",
         "Another great RTS game! The new theater of war would be an incredible addition to the game. It brings the Mediterranean and North African fronts to life, with the potential to explore entirely new regions, battles, and historical conflicts being vast.",
         "True",
         "Action, Strategy",
         "great RTS game new theater war incredible addition game bring Mediterranean north african front life potential explore entirely new region battle historical conflict vast"
        ],
        [
         "8",
         "Company of Heroes 3",
         "This was a complete dumpster fire at launch but it appears Relic have pulled off a miraculous recovery and fixed this with the 2.0 Update.\n\nCoH 3 channels the original game with some added unit variety. Ditto for unit gameplay and balance.\n\nIf only they could do the same for Dawn of War 3.",
         "True",
         "Action, Strategy",
         "complete dumpster fire launch appear Relic pull miraculous recovery fix Update CoH channel original game add unit variety Ditto unit gameplay balance Dawn War"
        ],
        [
         "9",
         "Company of Heroes 3",
         "i would recommend it for a person that want to sit and relax on a single player campain, esspecialy when you  like ww2 stragety games just for fun and enjoymenent.",
         "True",
         "Action, Strategy",
         "recommend person want sit relax single player campain esspecialy like ww stragety game fun enjoymenent"
        ],
        [
         "10",
         "Company of Heroes 3",
         "As a veteran of all 3 installments of CoH, this is my favorite. Building upon the ground breaking features and gameplay from the original CoH, this game is a well rounded mix of previous games with the expected graphics and quality of life improvements for a recent release. Older reviews of this game detail the rocky start, but currently this game is really rolling. Developers have been releasing regular balance updates, additional gameplay features, new maps, improved enemy AI, etc. Steam Workshop support is also great for mod content, community made maps, and custom missions.\n\nThis franchise is a pillar of the RTS genre and CoH3 does not disappoint. Highly recommend!",
         "True",
         "Action, Strategy",
         "veteran installment CoH favorite building ground break feature gameplay original CoH game rounded mix previous game expect graphic quality life improvement recent release old review game detail rocky start currently game roll developer release regular balance update additional gameplay feature new map improve enemy AI etc Steam Workshop support great mod content community map custom mission franchise pillar RTS genre CoH disappoint highly recommend"
        ],
        [
         "11",
         "Company of Heroes 3",
         "Solid multiplayer experience, the game had some teething issues that are worked out now, and its the only new RTS of its kind out there right now",
         "True",
         "Action, Strategy",
         "solid multiplayer experience game teething issue work new RTS kind right"
        ],
        [
         "12",
         "Company of Heroes 3",
         "I have played the COH games since COH 1's release back in early 2000's. As an Average player on all of the COH games, I have to say hands down COH3 is by far the best version I have ever played, Mind you there are some good things that each had special to it as well as bad. COH3 has a lot of potential despite its immature release, it took a long time to get at where it is now but honestly props to the Dev's and staff of Relic as they had to earn there respect as an effective fun RTS Game Company. I have a lot of respect for relic and there hard work keep it up please. In the future I hope they start adding more utility to units and as well as more light medium vehicle option for example a Bren Carrier would be really cool for British. Any ways I give this game a thumbs up Im not going to thumbs down a game like COH3  like most have been because of there personal gripes. I know RTS games are not easy to create and balance  so be patient it takes time and it will get better over time like all the other COH's before, I know....",
         "True",
         "Action, Strategy",
         "play COH game COH s release early s average player COH game hand COH far good version play Mind good thing special bad COH lot potential despite immature release take long time honestly prop Devs staff Relic earn respect effective fun RTS Game Company lot respect relic hard work future hope start add utility unit light medium vehicle option example Bren Carrier cool british way game thumb m go thumbs game like COH like personal gripe know RTS game easy create balance patient take time well time like coh know"
        ],
        [
         "13",
         "Company of Heroes 3",
         "its good. Not as good as COH2, and doesn't reflect a full price game.",
         "True",
         "Action, Strategy",
         "good good COH not reflect price game"
        ],
        [
         "14",
         "Company of Heroes 3",
         "It scratches the RTS itch. Gameplay is decent, and game's getting better every update.",
         "True",
         "Action, Strategy",
         "scratch RTS itch Gameplay decent game get well update"
        ],
        [
         "15",
         "Company of Heroes 3",
         "After waiting a while for proper fixes and patches, this is a great game now. It’s a shame I had to wait a few years to jump in, but I’m glad I did.\n\nRelic, with all love y’all have got to work on your launch. First impressions are everything.",
         "True",
         "Action, Strategy",
         "wait proper fix patch great game shame wait year jump m glad Relic love you get work launch impression"
        ],
        [
         "16",
         "Company of Heroes 3",
         "Very fun and addictive skirmish and multiplayer gameplay. Lots of different play styles.",
         "True",
         "Action, Strategy",
         "fun addictive skirmish multiplayer gameplay lot different play style"
        ],
        [
         "17",
         "Company of Heroes 3",
         "Tried it for the free weekend. Liked it so much i bought it.\r\n50% off and it feels like a solid purchase.\r\n\r\nLots of people dislike the campaigns turn based,  grand Strategy layer. But i found it well implemented.",
         "True",
         "Action, Strategy",
         "try free weekend like buy feel like solid purchase lot people dislike campaign turn base grand strategy layer find implement"
        ],
        [
         "18",
         "Company of Heroes 3",
         "Really fun singleplayer campaign. The addition of the total war style grand campaign map, with skirmishes and missions taking place in the classic RTS game mode is a huge plus for me, and has given me a huge case of one-more-turn-itis. \nTried for free, ended up sinking roughly 13 hours into it and can safely say it is well worth the purchase.\n\nI can't speak to how the game was at launch, or to the multiplayer component, but at least for singleplayer everything seems top notch, the sound effects, graphics and gameplay are all immersive and satisfying.\n\nAdditionally, this game is the perfect compliment to the show Rogue Heroes, having just received it's second season, which is also a must watch if you are interested in this period.",
         "True",
         "Action, Strategy",
         "fun singleplayer campaign addition total war style grand campaign map skirmish mission take place classic RTS game mode huge plus give huge case onemoreturnitis try free end sink roughly hour safely worth purchase not speak game launch multiplayer component singleplayer notch sound effect graphic gameplay immersive satisfy additionally game perfect compliment Rogue Heroes having receive second season watch interested period"
        ],
        [
         "19",
         "Company of Heroes 3",
         "i like the new turn based parts of the campaigns and graphics are great",
         "True",
         "Action, Strategy",
         "like new turn base part campaign graphic great"
        ],
        [
         "20",
         "Company of Heroes 3",
         "Has better graphics, and QOL improvements over COH 2. UI has changed but i prefer COH 3 over COH 2.",
         "True",
         "Action, Strategy",
         "well graphic QOL improvement COH UI change prefer COH COH"
        ],
        [
         "21",
         "Company of Heroes 3",
         "Fan of COH since the beginning, purchased this game on PS5 and very disappointed it is no longer supported there. I knew I would have to get this game for pc before that even happened though. So far happy with the content provided and hope to continue seeing things added, maybe new campaigns would be nice also.",
         "True",
         "Action, Strategy",
         "Fan COH beginning purchase game PS disappointed long support know game pc happen far happy content provide hope continue see thing add maybe new campaign nice"
        ],
        [
         "22",
         "Company of Heroes 3",
         "The maps repeat a little too much which is unfortunate (although now they've fixed that and there are fan made maps), but the gameplay has kept me coming back time and time again. \r\nI love the sound effects and seeing things like tank shells and artillery shells bouncing off tank armor, and its satisfying when you get rushed by tanks, but your anti tank troops just shred them and kill enemy morale. \r\nThe destructible environments are really cool to watch as well - seeing buildings crumble after tanks hit them or seeing walls crumble when your tanks go through them. \r\nOverall its a really fun game to come back to time and time again.",
         "True",
         "Action, Strategy",
         "map repeat little unfortunate ve fix fan map gameplay keep come time time love sound effect see thing like tank shell artillery shell bounce tank armor satisfying rush tank anti tank troop shre kill enemy morale destructible environment cool watch see building crumble tank hit see wall crumble tank Overall fun game come time time"
        ],
        [
         "23",
         "Company of Heroes 3",
         "Entertaining, almost arcade-like. Feels closer to the action than Warno or Regiments.",
         "True",
         "Action, Strategy",
         "entertain arcadelike feel close action Warno Regiments"
        ],
        [
         "24",
         "Company of Heroes 3",
         "Just purchased the game! I love RTS games, and this game does not disappoint! Developers are active and continue to improve game. Gameplay is very fun and even though I am a newb and don't know what I'm doing I am having a blast. Highly recommend.",
         "True",
         "Action, Strategy",
         "purchase game love RTS game game disappoint developer active continue improve game Gameplay fun newb not know m have blast highly recommend"
        ],
        [
         "25",
         "Company of Heroes 3",
         "I have enjoyed this game since launch, even though it's had a rocky start. Now it feels like it's firing on all cylinders.",
         "True",
         "Action, Strategy",
         "enjoy game launch rocky start feel like firing cylinder"
        ],
        [
         "26",
         "Company of Heroes 3",
         "Good Game! Was very hesitant to purchase when released as the reviews then were rampant with comments like a half baked game and it wasn't ready for release. So I waited until last year when it was 50 percent off, and since then I can't complain at all. I currently have almost 200 hours on record and will have dozens more after this update.\n\nIf you have over 50, 100 hours you clearly like the game. For comparison, I can expect to spend 10 dollars for a fast-food meal, so 60/30 dollars for a game or 20ish for a DLC is well worth the money. With my current hours and current invest into the game averages out to 0.75 cents and hour. How much value are people really going to cry about? They also gave \n free content back then which was a great apology and discounted another DLC which was kinda lackluster albeit. \n\nAll in all a great game that I'll gladly support. RTS is not dead yet, but if we don't continue to support the Devs that constantly work on creating more content and updating their games, then we are destroying our own community.  We can't except them to constantly work for free. \n\nThere are so many games that are released, review bombed and subsequently dropped and abandoned. OR we complain that releases aren't pushed fast enough, or updates and DLC aren't made quick enough, well we can't have our cake and eat it too. It takes massive amounts of time, energy, effort and money to produce these games. \n\nIr you like RTS games, WW2 and multiple games pick this up you won't disappointed. \n\n\n",
         "True",
         "Action, Strategy",
         "Good Game hesitant purchase release review rampant comment like half bake game not ready release wait year percent not complain currently hour record dozen update hour clearly like game comparison expect spend dollar fastfood meal dollar game ish DLC worth money current hour current invest game average cent hour value people go cry give free content great apology discount dlc kinda lackluster albeit great game Ill gladly support RTS dead not continue support devs constantly work create content update game destroy community not constantly work free game release review bomb subsequently drop abandon complain release not push fast update DLC not quick not cake eat take massive amount time energy effort money produce game ir like RTS game WW multiple game pick will not disappoint"
        ],
        [
         "27",
         "Company of Heroes 3",
         "Great update!  Love the game and the new tanks!",
         "True",
         "Action, Strategy",
         "great update love game new tank"
        ],
        [
         "28",
         "Company of Heroes 3",
         "This game is a thrilling blend of intense combat, deep tactical mechanics and great visuals that cements its place as one of the finest WW2 real-time strategy games in recent memory. Multiplayer is especially fun in 4vs4, battles can become really epic and immersive. Rough start, but most of the problems are fixed in the past year.",
         "True",
         "Action, Strategy",
         "game thrilling blend intense combat deep tactical mechanic great visual cement place fine WW realtime strategy game recent memory Multiplayer especially fun vs battle epic immersive rough start problem fix past year"
        ],
        [
         "29",
         "Company of Heroes 3",
         "Great game. Devs keep making good updates.",
         "True",
         "Action, Strategy",
         "great game Devs make good update"
        ],
        [
         "30",
         "Company of Heroes 3",
         "The game is fun. overall a really enjoyable game. BUT...\n\nI Wish the developers add more vision range for most units. Its frustrating that most units' vision range is very very short (my guess is about 35 meters only). Comically short. This leads frustration and slow gameplay. The units are soo blind.\n\nThe Devs should try Increasing the vision range without affecting the current attack range.",
         "True",
         "Action, Strategy",
         "game fun overall enjoyable game wish developer add vision range unit frustrating unit vision range short guess meter comically short lead frustration slow gameplay unit soo blind Devs try increase vision range affect current attack range"
        ],
        [
         "31",
         "Company of Heroes 3",
         "Incredible... so intense that I have to leave my military theme toys for good. The digital version is more fun to engage.",
         "True",
         "Action, Strategy",
         "incredible intense leave military theme toy good digital version fun engage"
        ],
        [
         "32",
         "Company of Heroes 3",
         "I've enjoyed what I've played so far. The multiplayer is the most fun. I'm excited for the 2.0 release tomorrow.",
         "True",
         "Action, Strategy",
         "ve enjoy ve play far multiplayer fun m excited release tomorrow"
        ],
        [
         "33",
         "Company of Heroes 3",
         "COH3 launched in a pretty funky state, but Relic has steadily layered in improvements to the point that I'd call this the quintessential COH experience. The campaign map stuff adds a lot of depth to the single player experience, and skirmishes/pvp bring me back to the glory days of COH1. Looking forward to the future of the game!",
         "True",
         "Action, Strategy",
         "COH launch pretty funky state Relic steadily layer improvement point d quintessential COH experience campaign map stuff add lot depth single player experience skirmishespvp bring glory day COH look forward future game"
        ],
        [
         "34",
         "Company of Heroes 3",
         "Been playing COH from the beginning so I expected a lot from this latest installment It did startoff rocky and looked like a fast cashgrab. However with SEGA out of the picture there's been a huge change in the direction for the game. Excited to see where this will be in the next year.",
         "True",
         "Action, Strategy",
         "play COH beginning expect lot late installment startoff rocky look like fast cashgrab SEGA picture s huge change direction game excite year"
        ],
        [
         "35",
         "Company of Heroes 3",
         "4v4 still wildly favours axis but the game is super fun. I had 2k hours in coh2 and I think this is a good successor. Combat is faster and more dynamic, and there's a bit more unit variety. Relic just needs to fix USF in 4v4 particularly. Also bring back the coh2 USF weapon rack system.",
         "True",
         "Action, Strategy",
         "v wildly favour axis game super fun k hour coh think good successor Combat fast dynamic s bit unit variety Relic need fix USF v particularly bring coh USF weapon rack system"
        ],
        [
         "36",
         "Company of Heroes 3",
         "What a fantastic game! It has received a lot of love and updates, and it's just getting better with each update. If you enjoy RTS games or the Company of Heroes franchise, don't hesitate to pick this up!",
         "True",
         "Action, Strategy",
         "fantastic game receive lot love update get well update enjoy RTS game Company Heroes franchise not hesitate pick"
        ],
        [
         "37",
         "Company of Heroes 3",
         "I have played all COH games but was a bit sceptical when i got COH3 a little while ago. So far I’m having a blast in multiplayer and i think the game is in a great state right now and has a bright future.",
         "True",
         "Action, Strategy",
         "play COH game bit sceptical get COH little ago far m have blast multiplayer think game great state right bright future"
        ],
        [
         "38",
         "Company of Heroes 3",
         "Better than expected from all the bad reviews.\n\nA good enough upgrade over Coh 2 / 1. Newcomers to the series should also start here.\n\nBuy it on sale if money is tight for you, buy it full price if you want to support this newly independent studio.",
         "True",
         "Action, Strategy",
         "well expect bad review good upgrade Coh Newcomers series start buy sale money tight buy price want support newly independent studio"
        ],
        [
         "39",
         "Company of Heroes 3",
         "Different than COH2 but still a lot of fun. Would love to see it continue to get supported with balance updates and new battlegroups.",
         "True",
         "Action, Strategy",
         "different COH lot fun love continue support balance update new battlegroup"
        ],
        [
         "40",
         "Company of Heroes 3",
         "Bought the game 2 years after release, expecting less bugs etc. I used to not recommend it but after playing some matches on 2.0 update, I think it's gotten to a playable state:\n\n[b]1. Loading screen name/team bug: [/b] So far I haven't seen this bug again. So perhaps it has been fixed\n\n[b]2. Early and Mid game balance issue: [/b] with the new 2.0 update, the meta certainly changes. I haven't played much to know for sure which spam got buffed and which got nerfed. So far I only found new USF half-track spam since they got cheaper (or maybe I have been playing on low ELO for too much I rarely find this spam)\n\n[b]3. Replay watch sync-error issue: [/b] Issue addressed I think? Haven't found any replay errors yet.\n\n[b]4. Auto-match balance issue: [/b] I might be biased but I think it's been fixed as well. Tho someone certainly need to make tutorial to teach the Axis newbies how to deal with early Allies light tank/armored car rush coz I see them getting their ass handed immediately once it happens.\n\n[b]5. Can't buy the 4th battlegroup of wehrmacht and USF factions in-game with merits without the corresponding DLC: [/b] The in-game UI has been fixed. It now tells you to buy the DLC to buy the battlegroup. Just like the new fire & steel battlegroups.\n\n[b]6. Rapido River Crossing bugs: [/b] I still haven't tried this map again. It used to have a lot of bugs that can happen in this map so I always have it downvoted. examples are: breach cannot finish so unit gets stuck doing nothing, AT gun crews out of action but the AT gun itself still capable of moving around and attack with 0 HP. Bofor had the same bug too.",
         "True",
         "Action, Strategy",
         "buy game year release expect bug etc recommend play match update think get playable state Loading screen nameteam bug far not see bug fix early mid game balance issue new update meta certainly change not play know sure spam get buff get nerfe far find new USF halftrack spam get cheap maybe play low elo rarely find spam Replay watch syncerror issue issue address think not find replay error Automatch balance issue bias think fix Tho certainly need tutorial teach Axis newbie deal early Allies light tankarmored car rush coz get ass hand immediately happens not buy th battlegroup wehrmacht USF faction ingame merit correspond DLC ingame UI fix tell buy DLC buy battlegroup like new fire steel battlegroup Rapido River Crossing bug not try map lot bug happen map downvote example breach finish unit get stick gun crew action gun capable move attack HP Bofor bug"
        ],
        [
         "41",
         "Company of Heroes 3",
         "My pal and i bought the game after it was patched up and on sale. We're loving it! We play a lot of 4v4 with Expert AI. If you haven't played it in a while, now would be a good time to give it another shot!",
         "True",
         "Action, Strategy",
         "pal buy game patch sale love play lot v Expert AI not play good time shot"
        ],
        [
         "42",
         "Company of Heroes 3",
         "this game deserves as much attention as it can get. 2.0 is a fantastic update.",
         "True",
         "Action, Strategy",
         "game deserve attention fantastic update"
        ],
        [
         "43",
         "Company of Heroes 3",
         "Played a tonne of COH2. It has taken the devs a while, but the game is finally at a decent state, \n\nKeen to shift over from 2 to 3 and support Relic",
         "True",
         "Action, Strategy",
         "play tonne COH take devs game finally decent state Keen shift support Relic"
        ],
        [
         "44",
         "Company of Heroes 3",
         "Builds on the nostalgia and adds complex campaign map.",
         "True",
         "Action, Strategy",
         "build nostalgia add complex campaign map"
        ],
        [
         "45",
         "Company of Heroes 3",
         "Well, is it better than CoH 2? Yes\r\nIs it better than CoH 1? Yes\r\n\r\nDid we have to wait years for that? Yes\r\nDo you have to download a lot of mods and new maps from mod makers to make it fun? Yes\r\n\r\nThe game is done now thanks to the community.",
         "True",
         "Action, Strategy",
         "well CoH Yes well CoH Yes wait year yes download lot mod new map mod maker fun yes game thank community"
        ],
        [
         "46",
         "Company of Heroes 3",
         "Game had a tough launch and deserved its criticism, but all of the glaring issues have been fixed. Very fun game that has moved the series forward in a way that makes the older games very difficult to go back and play. At this point, the game is well worth the money at full price. Sure, occasionally balance is out of whack and can be frustrating... but that is what you get with an RTS that is still putting out new content/units. Overall the game is a lot of fun and I highly recommend for all those interested in skirmish/multiplayer \r\n\r\n**Disclaimer: I completed both campaigns at launch and thought Italian was \"solid\" but way too repetitive, while the African campaign was \"meh\" because it was bare bones and pretty short.  I have not touched either campaign since completing them when game was released - no clue if the improvements have made the game worth the $$ for players that are primarily interested in single player campaigns.**",
         "True",
         "Action, Strategy",
         "Game tough launch deserve criticism glare issue fix fun game move series forward way make old game difficult play point game worth money price sure occasionally balance whack frustrating RTS put new contentunit overall game lot fun highly recommend interested skirmishmultiplayer Disclaimer complete campaign launch think Italian solid way repetitive african campaign meh bare bone pretty short touch campaign complete game release clue improvement game worth player primarily interested single player campaign"
        ],
        [
         "47",
         "Company of Heroes 3",
         "A great multiplayer experience with substantial improvements over the last year. With the most recent 2.0 update it is very polished on top of being a ton of fun. Worth jumping in now if you were scared off by the early struggles.",
         "True",
         "Action, Strategy",
         "great multiplayer experience substantial improvement year recent update polished ton fun worth jump scare early struggle"
        ],
        [
         "48",
         "Company of Heroes 3",
         "A new flavour for the franchise with lots of QOL improvements that reduce the micro tax which is great for new players to the franchise. \nReturning players will appreciate the update to the Commander system from CoH2 which was a series of linear unlocks. Battlegroups are an update to the Doctrine system from CoH1, two branches offering exclusive  choices which determine your playstyle. \n\nRelic have worked on CoH3 continuously since launch, even updating the campaign, free MP and single player skirmish maps and new battlegroups for players since 1.0 with Hammer and Shield and more content to come in 2025 and plans for 2026. \n\nNorth Africa and Italy are a refreshing change, offering  dynamic open spaces in Tunisian desert landscapes and verdant rolling landscapes in the Italian theatre.\nFans of Anzio, Von Ryan's Express and Tobruk, the Desert Rats and most recently SAS Rogue Heroes -  no other RTS brings these battles to life like CoH3.\n\n\n\n",
         "True",
         "Action, Strategy",
         "new flavour franchise lot QOL improvement reduce micro tax great new player franchise return player appreciate update Commander system CoH series linear unlock battlegroup update Doctrine system CoH branch offer exclusive choice determine playstyle Relic work CoH continuously launch update campaign free MP single player skirmish map new battlegroup player Hammer Shield content come plan North Africa Italy refreshing change offer dynamic open space tunisian desert landscape verdant rolling landscape italian theatre fan Anzio Von Ryans Express Tobruk Desert Rats recently SAS Rogue Heroes RTS bring battle life like CoH"
        ],
        [
         "49",
         "Company of Heroes 3",
         "This game is excellent, and now at the level and beyond COH 1 & 2. I have waited 2 years - watched a lot of videos and always got discouraged by either the graphics, sound or overall list of bugs I could find online. \r\nI now just got the game and it's superb. I haven't seen one bug in 19+ hour of gameplay. I am loving all of it, graphics, gameplay, sounds, depth and all the options available to customize your playstyle.\r\n\r\nCOH 3 is top 5 RTS ever played in 30+ years of gaming. The total-war style game mode is excellent, scenarios and diversity of missions is great too, especially for a first try in that genre. (and I am a huge total war fan/player). Skirmishes are very good as well. I don't play multi, but found enough content for solo players to estimate a 50 to 100 hours play-through before moving to another game. \r\n\r\nWell done to the full Relic team for fixing and updating things. Congrats on releasing some content for free to your loyal fan base too. You guys nailed it. Strongly recommended to anyone into RTS.",
         "True",
         "Action, Strategy",
         "game excellent level COH wait year watch lot video get discourage graphic sound overall list bug find online get game superb not see bug hour gameplay love graphic gameplay sound depth option available customize playstyle COH RTS play year game totalwar style game mode excellent scenario diversity mission great especially try genre huge total war fanplayer skirmish good not play multi find content solo player estimate hour playthrough move game Relic team fix update thing Congrats release content free loyal fan base guy nail strongly recommend RTS"
        ]
       ],
       "shape": {
        "columns": 5,
        "rows": 34045
       }
      },
      "text/html": [
       "<div>\n",
       "<style scoped>\n",
       "    .dataframe tbody tr th:only-of-type {\n",
       "        vertical-align: middle;\n",
       "    }\n",
       "\n",
       "    .dataframe tbody tr th {\n",
       "        vertical-align: top;\n",
       "    }\n",
       "\n",
       "    .dataframe thead th {\n",
       "        text-align: right;\n",
       "    }\n",
       "</style>\n",
       "<table border=\"1\" class=\"dataframe\">\n",
       "  <thead>\n",
       "    <tr style=\"text-align: right;\">\n",
       "      <th></th>\n",
       "      <th>Game</th>\n",
       "      <th>Review</th>\n",
       "      <th>Recommended</th>\n",
       "      <th>Genre</th>\n",
       "      <th>cleaned_review</th>\n",
       "    </tr>\n",
       "  </thead>\n",
       "  <tbody>\n",
       "    <tr>\n",
       "      <th>0</th>\n",
       "      <td>Company of Heroes 3</td>\n",
       "      <td>Here is my actual review. COH3 has the best Qo...</td>\n",
       "      <td>True</td>\n",
       "      <td>Action, Strategy</td>\n",
       "      <td>actual review COH good qol franchise stop play...</td>\n",
       "    </tr>\n",
       "    <tr>\n",
       "      <th>1</th>\n",
       "      <td>Company of Heroes 3</td>\n",
       "      <td>I resisted for quite a while to buy this game ...</td>\n",
       "      <td>True</td>\n",
       "      <td>Action, Strategy</td>\n",
       "      <td>resist buy game not expect game different CoH ...</td>\n",
       "    </tr>\n",
       "    <tr>\n",
       "      <th>2</th>\n",
       "      <td>Company of Heroes 3</td>\n",
       "      <td>Final Thoughts\\nCompany of Heroes 3 is a stunn...</td>\n",
       "      <td>True</td>\n",
       "      <td>Action, Strategy</td>\n",
       "      <td>final Thoughts Company Heroes stunning evoluti...</td>\n",
       "    </tr>\n",
       "    <tr>\n",
       "      <th>3</th>\n",
       "      <td>Company of Heroes 3</td>\n",
       "      <td>game has come a long way since release but can...</td>\n",
       "      <td>True</td>\n",
       "      <td>Action, Strategy</td>\n",
       "      <td>game come long way release feel like cash grab...</td>\n",
       "    </tr>\n",
       "    <tr>\n",
       "      <th>4</th>\n",
       "      <td>Company of Heroes 3</td>\n",
       "      <td>A great RTS that is going to get better with e...</td>\n",
       "      <td>True</td>\n",
       "      <td>Action, Strategy</td>\n",
       "      <td>great RTS go well major update time start play...</td>\n",
       "    </tr>\n",
       "    <tr>\n",
       "      <th>...</th>\n",
       "      <td>...</td>\n",
       "      <td>...</td>\n",
       "      <td>...</td>\n",
       "      <td>...</td>\n",
       "      <td>...</td>\n",
       "    </tr>\n",
       "    <tr>\n",
       "      <th>34040</th>\n",
       "      <td>Baldur's Gate 3</td>\n",
       "      <td>It's not just a game! It's a whole story that ...</td>\n",
       "      <td>True</td>\n",
       "      <td>Adventure, RPG, Strategy</td>\n",
       "      <td>game story completely immerse primarily thank ...</td>\n",
       "    </tr>\n",
       "    <tr>\n",
       "      <th>34041</th>\n",
       "      <td>Baldur's Gate 3</td>\n",
       "      <td>It's the closest you're going to get to playin...</td>\n",
       "      <td>True</td>\n",
       "      <td>Adventure, RPG, Strategy</td>\n",
       "      <td>close go play DnD group friend willing sit pla...</td>\n",
       "    </tr>\n",
       "    <tr>\n",
       "      <th>34042</th>\n",
       "      <td>Baldur's Gate 3</td>\n",
       "      <td>verry gooood gammeeee. I slept on it for to lo...</td>\n",
       "      <td>True</td>\n",
       "      <td>Adventure, RPG, Strategy</td>\n",
       "      <td>verry gooood gammeeee sleep long finish ton co...</td>\n",
       "    </tr>\n",
       "    <tr>\n",
       "      <th>34043</th>\n",
       "      <td>Baldur's Gate 3</td>\n",
       "      <td>Funny wild magic sorceror Durge run made every...</td>\n",
       "      <td>True</td>\n",
       "      <td>Adventure, RPG, Strategy</td>\n",
       "      <td>funny wild magic sorceror Durge run turn cat t...</td>\n",
       "    </tr>\n",
       "    <tr>\n",
       "      <th>34044</th>\n",
       "      <td>Baldur's Gate 3</td>\n",
       "      <td>this game is amazing and a blast to play. ever...</td>\n",
       "      <td>True</td>\n",
       "      <td>Adventure, RPG, Strategy</td>\n",
       "      <td>game amazing blast play run diffrent</td>\n",
       "    </tr>\n",
       "  </tbody>\n",
       "</table>\n",
       "<p>34045 rows × 5 columns</p>\n",
       "</div>"
      ],
      "text/plain": [
       "                      Game                                             Review  \\\n",
       "0      Company of Heroes 3  Here is my actual review. COH3 has the best Qo...   \n",
       "1      Company of Heroes 3  I resisted for quite a while to buy this game ...   \n",
       "2      Company of Heroes 3  Final Thoughts\\nCompany of Heroes 3 is a stunn...   \n",
       "3      Company of Heroes 3  game has come a long way since release but can...   \n",
       "4      Company of Heroes 3  A great RTS that is going to get better with e...   \n",
       "...                    ...                                                ...   \n",
       "34040      Baldur's Gate 3  It's not just a game! It's a whole story that ...   \n",
       "34041      Baldur's Gate 3  It's the closest you're going to get to playin...   \n",
       "34042      Baldur's Gate 3  verry gooood gammeeee. I slept on it for to lo...   \n",
       "34043      Baldur's Gate 3  Funny wild magic sorceror Durge run made every...   \n",
       "34044      Baldur's Gate 3  this game is amazing and a blast to play. ever...   \n",
       "\n",
       "       Recommended                     Genre  \\\n",
       "0             True          Action, Strategy   \n",
       "1             True          Action, Strategy   \n",
       "2             True          Action, Strategy   \n",
       "3             True          Action, Strategy   \n",
       "4             True          Action, Strategy   \n",
       "...            ...                       ...   \n",
       "34040         True  Adventure, RPG, Strategy   \n",
       "34041         True  Adventure, RPG, Strategy   \n",
       "34042         True  Adventure, RPG, Strategy   \n",
       "34043         True  Adventure, RPG, Strategy   \n",
       "34044         True  Adventure, RPG, Strategy   \n",
       "\n",
       "                                          cleaned_review  \n",
       "0      actual review COH good qol franchise stop play...  \n",
       "1      resist buy game not expect game different CoH ...  \n",
       "2      final Thoughts Company Heroes stunning evoluti...  \n",
       "3      game come long way release feel like cash grab...  \n",
       "4      great RTS go well major update time start play...  \n",
       "...                                                  ...  \n",
       "34040  game story completely immerse primarily thank ...  \n",
       "34041  close go play DnD group friend willing sit pla...  \n",
       "34042  verry gooood gammeeee sleep long finish ton co...  \n",
       "34043  funny wild magic sorceror Durge run turn cat t...  \n",
       "34044               game amazing blast play run diffrent  \n",
       "\n",
       "[34045 rows x 5 columns]"
      ]
     },
     "execution_count": 39,
     "metadata": {},
     "output_type": "execute_result"
    }
   ],
   "source": [
    "pos_reviews"
   ]
  },
  {
   "cell_type": "code",
   "execution_count": 40,
   "metadata": {},
   "outputs": [],
   "source": [
    "# Define TF-IDF vectorizers\n",
    "vectorizer_pos = TfidfVectorizer(stop_words=\"english\", ngram_range=(1,2), max_features=5000)  # Unigrams & bigrams\n",
    "vectorizer_neg = TfidfVectorizer(stop_words=\"english\", ngram_range=(1,2), max_features=5000)  # Unigrams & bigrams\n",
    "\n",
    "# Remove NaN values from the cleaned_review columns\n",
    "pos_reviews_cleaned = pos_reviews[\"cleaned_review\"].dropna()\n",
    "neg_reviews_cleaned = neg_reviews[\"cleaned_review\"].dropna()\n",
    "\n",
    "# Fit and transform the positive reviews\n",
    "tfidf_matrix_pos = vectorizer_pos.fit_transform(pos_reviews_cleaned)\n",
    "\n",
    "# Fit and transform the negative reviews\n",
    "tfidf_matrix_neg = vectorizer_neg.fit_transform(neg_reviews_cleaned)\n",
    "\n",
    "# Get feature names\n",
    "terms_pos = vectorizer_pos.get_feature_names_out()\n",
    "terms_neg = vectorizer_neg.get_feature_names_out()\n",
    "\n",
    "# Compute the mean TF-IDF scores per term\n",
    "tfidf_sum_pos = tfidf_matrix_pos.mean(axis=0).A1\n",
    "tfidf_sum_neg = tfidf_matrix_neg.mean(axis=0).A1\n",
    "\n",
    "# Create DataFrames with terms and scores\n",
    "tfidf_df_pos = pd.DataFrame({'term': terms_pos, 'tfidf_score': tfidf_sum_pos})\n",
    "tfidf_df_neg = pd.DataFrame({'term': terms_neg, 'tfidf_score': tfidf_sum_neg})\n",
    "\n",
    "# Sort by importance (highest TF-IDF scores)\n",
    "tfidf_df_pos = tfidf_df_pos.sort_values(by=\"tfidf_score\", ascending=False)\n",
    "tfidf_df_neg = tfidf_df_neg.sort_values(by=\"tfidf_score\", ascending=False)\n"
   ]
  },
  {
   "cell_type": "code",
   "execution_count": 41,
   "metadata": {},
   "outputs": [],
   "source": [
    "# Define function to get top words per game\n",
    "def get_top_words_per_game(reviews_df, vectorizer, top_n=10):\n",
    "    top_words_per_game = {}\n",
    "\n",
    "    for game in reviews_df[\"Game\"].unique():\n",
    "        # Filter reviews for the specific game\n",
    "        game_reviews = reviews_df[reviews_df[\"Game\"] == game][\"cleaned_review\"]\n",
    "\n",
    "        if game_reviews.empty:\n",
    "            continue  # Skip if no reviews\n",
    "\n",
    "        # Apply TF-IDF for the specific game\n",
    "        tfidf_matrix = vectorizer.fit_transform(game_reviews)\n",
    "        terms = vectorizer.get_feature_names_out()\n",
    "\n",
    "        # Compute mean TF-IDF scores for words\n",
    "        row = tfidf_matrix.mean(axis=0).A1\n",
    "        sorted_terms = [terms[idx] for idx in row.argsort()[::-1][:top_n]]\n",
    "\n",
    "        # Store in dictionary\n",
    "        top_words_per_game[game] = sorted_terms\n",
    "\n",
    "    return top_words_per_game\n",
    "\n",
    "\n",
    "\n"
   ]
  },
  {
   "cell_type": "code",
   "execution_count": 43,
   "metadata": {},
   "outputs": [],
   "source": [
    "# Remove NaN values from the cleaned_review columns\n",
    "pos_reviews_cleaned = pos_reviews.dropna(subset=['cleaned_review'])\n",
    "neg_reviews_cleaned = neg_reviews.dropna(subset=['cleaned_review'])\n",
    "\n",
    "# Compute top words per game for positive & negative reviews\n",
    "top_words_pos = get_top_words_per_game(pos_reviews_cleaned, vectorizer_pos)\n",
    "top_words_neg = get_top_words_per_game(neg_reviews_cleaned, vectorizer_neg)"
   ]
  },
  {
   "cell_type": "code",
   "execution_count": 45,
   "metadata": {},
   "outputs": [],
   "source": [
    "# Ensure both dictionaries have the same keys\n",
    "games = set(top_words_pos.keys()).union(set(top_words_neg.keys()))\n",
    "\n",
    "# Create lists for DataFrame\n",
    "games_list = []\n",
    "top_pos_words_list = []\n",
    "top_neg_words_list = []\n",
    "\n",
    "for game in games:\n",
    "    games_list.append(game)\n",
    "    top_pos_words_list.append(top_words_pos.get(game, []))\n",
    "    top_neg_words_list.append(top_words_neg.get(game, []))\n",
    "\n",
    "# Convert to DataFrame\n",
    "df_top_words = pd.DataFrame({\n",
    "    \"Game\": games_list,\n",
    "    \"Top_Positive_Words\": top_pos_words_list,\n",
    "    \"Top_Negative_Words\": top_neg_words_list\n",
    "})\n",
    "\n",
    "# Save to CSV\n",
    "df_top_words.to_csv(\"game_top_tfidf_words.csv\", index=False)\n"
   ]
  },
  {
   "cell_type": "code",
   "execution_count": 46,
   "metadata": {},
   "outputs": [
    {
     "data": {
      "application/vnd.microsoft.datawrangler.viewer.v0+json": {
       "columns": [
        {
         "name": "index",
         "rawType": "int64",
         "type": "integer"
        },
        {
         "name": "Game",
         "rawType": "object",
         "type": "string"
        },
        {
         "name": "Top_Positive_Words",
         "rawType": "object",
         "type": "unknown"
        },
        {
         "name": "Top_Negative_Words",
         "rawType": "object",
         "type": "unknown"
        }
       ],
       "conversionMethod": "pd.DataFrame",
       "ref": "4c10f422-5f44-4c5b-8ea1-811544a7de41",
       "rows": [
        [
         "0",
         "No Man's Sky",
         "['game', 'play', 'good', 'space', 'like', 'great', 'fun', 'love', 'exploration', 'time']",
         "['game', 'bug', 'like', 'feel', 'time', 'thing', 'new', 'base', 'play', 'launch']"
        ],
        [
         "1",
         "The Binding of Isaac: Rebirth",
         "['game', 'good', 'play', 'fun', 'like', 'isaac', 'good game', 'hour', 'time', 'item']",
         "['game', 'like', 'time', 'item', 'good', 'play', 'shit', 'feel', 'trash', 'fix']"
        ],
        [
         "2",
         "Pathfinder: Kingmaker — Enhanced Plus Edition",
         "['game', 'good', 'enjoy', 'great', 'pathfinder', 'good game', 'like', 'fun', 'play', 'story']",
         "['game', 'nah', 'play', 'like', 'pathfinder', 'fun', 'encounter', 'combat', 'balancing', 'bad combat']"
        ],
        [
         "3",
         "MONSTER HUNTER RISE",
         "['good', 'game', 'monster', 'hunter', 'fun', 'yes', 'world', 'monster hunter', 'good game', 'play']",
         "['play', 'game', 'bad', 'monster', 'fun', 'remove', 'mid', 'drm', 'world', 'monster hunter']"
        ],
        [
         "4",
         "Artifact",
         "['valve murder', 'valve', 'murder great', 'murder', 'great game', 'great', 'game']",
         "[]"
        ],
        [
         "5",
         "Assassin's Creed® Origins",
         "['good', 'game', 'great', 'good game', 'nice', 'ac', 'like', 'love', 'fun', 'play']",
         "['game', 'ubisoft', 'play', 'connect', 'ubisoft connect', 'good', 'play game', 'try', 'time', 'buy']"
        ],
        [
         "6",
         "Titanfall® 2",
         "['game', 'play', 'good', 'campaign', 'story', 'fun', 'great', 'multiplayer', 'amazing', 'titanfall']",
         "['game', 'play', 'ea', 'campaign', 'time', 'fuck', 'try', 'want', 'good', 'multiplayer']"
        ],
        [
         "7",
         "FINAL FANTASY X/X-2 HD Remaster",
         "['game', 'good', 'great', 'great game', 'play', 'fantasy', 'final', 'final fantasy', 'ha', 'time']",
         "['game', 'play', 'crash', 'work', 'english', 'play english', 'game crash', 'blitzball quit', 'quit', 'quit game']"
        ],
        [
         "8",
         "Ravenfield",
         "['fun', 'game', 'good', 'mod', 'good game', 'great', 'yes', 'love', 'play', 'great game']",
         "['game', 'booooooooooooooooooooooooo', 'mod', 'year', 'dalet', 'dalet mad', 'mad', 'buy', 'weapon', 'dead']"
        ],
        [
         "9",
         "Mass Effect™ Legendary Edition",
         "['game', 'good', 'play', 'mass', 'time', 'story', 'great', 'effect', 'mass effect', 'trilogy']",
         "['game', 'ea', 'play', 'app', 'launcher', 'time', 'hate', 'ea app', 'ea launcher', 'work']"
        ],
        [
         "10",
         "Atomic Heart",
         "['game', 'good', 'fun', 'good game', 'great', 'story', 'play', 'love', 'bioshock', 'like']",
         "['game', 'good', 'like', 'play', 'hour', 'difficult', 'feel', 'robot', 'bad', 'story']"
        ],
        [
         "11",
         "Grand Theft Auto V Legacy",
         "['game', 'good', 'fun', 'play', 'story', 'online', 'gta', 'good game', 'great', 'mode']",
         "['game', 'play', 'rockstar', 'online', 'gta', 'bug', 'shit', 'like', 'player', 'account']"
        ],
        [
         "12",
         "Golf With Your Friends",
         "['golf', 'fun', 'friend', 'game', 'good', 'golf friend', 'great', 'play', 'ball', 'fun friend']",
         "['game', 'bad', 'buy', 'play', 'ifyrc', 'map', 'ts', 'golf', 'suck', 'like']"
        ],
        [
         "13",
         "Shadowrun Returns",
         "['game', 'bad', 'good', 'shadowrun', 'story', 'play', 'nice game', 'nice', 'need', 'like']",
         "['sequel', 'miss', 'game', 'buggy', 'think', 'definitely forgettable', 'definitely', 'ending feel', 'shadowrun', 'shadowrun trilogy']"
        ],
        [
         "14",
         "Portal 2",
         "['game', 'good', 'portal', 'play', 'puzzle', 'fun', 'story', 'great', 'like', 'time']",
         "['game', 'wall', 'boring probably', 'probably', 'game boring', 'retarded', 'boring', 'probably retarded', 'portal', 'puzzle']"
        ],
        [
         "15",
         "Windblown",
         "['game', 'fun', 'good', 'great', 'play', 'like', 'friend', 'dead', 'great game', 'early']",
         "['game', 'dead', 'like', 'good', 'fun', 'dead cells', 'cells', 'op', 'melee', 'level']"
        ],
        [
         "16",
         "Dead Cells",
         "['good', 'game', 'fun', 'play', 'like', 'love', 'good game', 'great', 'dead', 'cell']",
         "['game', 'like', 'hard', 'bore', 'hogass', 'fun', 'control', 'control responsive', 'responsive', 'fun control']"
        ],
        [
         "17",
         "ARK: Survival Evolved",
         "['game', 'fun', 'play', 'good', 'great', 'good game', 'like', 'ark', 'dinosaur', 'great game']",
         "['game', 'play', 'time', 'fun', 'like', 'server', 'crash', 'buy', 'shit', 'mod']"
        ],
        [
         "18",
         "Resident Evil 4",
         "['game', 'good', 'remake', 'play', 'evil', 'great', 'resident', 'original', 'resident evil', 'good game']",
         "['game', 'play', 'good', 'constant', 'like', 'story', 'time', 'buy', 'bad', 'feel']"
        ],
        [
         "19",
         "Counter-Strike 2",
         "['game', 'good', 'fun', 'play', 'cheater', 'good game', 'like', 'love', 'lot', 'time']",
         "['game', 'cheater', 'play', 'valve', 'player', 'good', 'game cheater', 'cheat', 'time', 'bad']"
        ],
        [
         "20",
         "Terraria",
         "['game', 'play', 'fun', 'good', 'great', 'like', 'good game', 'friend', 'boss', 'terraria']",
         "['que', 'crringe jk', 'scared hp', 'jk fun', 'hp leave', 'hp', 'leave', 'leave crringe', 'fun salty', 'fun']"
        ],
        [
         "21",
         "Fallout 4",
         "['game', 'good', 'fallout', 'fun', 'play', 'mod', 'great', 'story', 'love', 'like']",
         "['game', 'play', 'crash', 'time', 'mod', 'update', 'fallout', 'bethesda', 'fix', 'load']"
        ],
        [
         "22",
         "Robin Hood - Sherwood Builders",
         "['game', 'like', 'feel', 'combat', 'quest', 'puzzle', 'want', 'world', 'play', 'rpg']",
         "['game', 'feel', 'like', 'like chore', 'involve', 'simply crafting', 'simply', 'chore', 'point feel', 'point']"
        ],
        [
         "23",
         "NBA 2K25",
         "['game', 'good', 'play', 'like', 'fun', 'good game', 'great', 'graphic', 'basketball', 'player']",
         "['game', 'play', 'crash', 'buy', 'time', 'player', 'pc', 'money', 'like', 'bad']"
        ],
        [
         "24",
         "Team Fortress 2",
         "['game', 'good', 'fun', 'tf', 'play', 'team', 'spy', 'good game', 'yes', 'fortress']",
         "['game', 'valve', 'play', 'suck', 'time', 'game suck', 'server', 'year', 'community', 'bad']"
        ],
        [
         "25",
         "Black Squad",
         "['like', 'beste', 'game', 'sehr', 'legende', 'clan', 'anticheat', 'anticheat legende', 'game beste', 'beste anticheat']",
         "['game', 'money', 'gun', 'ban', 'shit', 'clan', 'devs', 'time', 'toomany', 'pro player']"
        ],
        [
         "26",
         "Mafia: Definitive Edition",
         "['game', 'good', 'story', 'great', 'good game', 'play', 'amazing', 'mafia', 'like', 'love']",
         "['game', 'play', 'fullscreen', 'work', 'like', 'screen', 'crash', 'launch', 'good', 'race']"
        ],
        [
         "27",
         "Beat Saber",
         "['game', 'good', 'vr', 'beat', 'saber', 'fun', 'beat saber', 'mod', 'play', 'love']",
         "['game', 'mod', 'song', 'play', 'actually', 'music', 'want', 'like', 'devs', 'update']"
        ],
        [
         "28",
         "MapleStory",
         "['game', 'play', 'time', 'great', 'server', 'like', 'level', 'old', 'fun', 'start']",
         "['game', 'thing', 'time', 'hour', 'play', 'new', 'server', 'kill', 'animal', 'thing thing']"
        ],
        [
         "29",
         "Yakuza 0",
         "['game', 'good', 'peak', 'yakuza', 'play', 'like', 'story', 'majima', 'good game', 'great']",
         "['bore', 'overrate', 'game', 'sex', 'majima sex', 'majima', 'kiryu', 'freeze', 'shakedown', 'fuh mr']"
        ],
        [
         "30",
         "Monster Hunter: World",
         "['game', 'monster', 'play', 'hunter', 'good', 'monster hunter', 'fun', 'love', 'time', 'hour']",
         "['game', 'monster', 'like', 'bad', 'play', 'feel', 'combat', 'player', 'hunter', 'fight']"
        ],
        [
         "31",
         "ARK: Survival Ascended",
         "['game', 'play', 'good', 'ark', 'fun', 'like', 'love', 'great', 'time', 'mod']",
         "['game', 'play', 'ark', 'crash', 'server', 'run', 'bad', 'like', 'update', 'money']"
        ],
        [
         "32",
         "Beast Saga",
         "['rpgea']",
         "[]"
        ],
        [
         "33",
         "Marvel’s Spider-Man Remastered",
         "['good', 'game', 'fun', 'spiderman', 'great', 'good game', 'play', 'love', 'great game', 'story']",
         "['game', 'play', 'waste', 'story', 'fucking', 'boring', 'time', 'need', 'money', 'like']"
        ],
        [
         "34",
         "PUBG: BATTLEGROUNDS",
         "['good', 'game', 'good game', 'fun', 'pubg', 'nice', 'play', 'br', 'love', 'like']",
         "['game', 'cheater', 'play', 'bad', 'hacker', 'china', 'meh', 'lag', 'suck', 'shit']"
        ],
        [
         "35",
         "DARK SOULS™ III",
         "['game', 'good', 'soul', 'great', 'dark', 'play', 'fun', 'good game', 'boss', 'time']",
         "['game', 'play', 'dark', 'soul', 'boss', 'souls', 'dark souls', 'like', 'elden ring', 'elden']"
        ],
        [
         "36",
         "Dota 2",
         "['good', 'love', 'game', 'good game', 'love game', 'free', 'free game', 'time', 'caution', 'heed caution']",
         "['shit', 'game', 'worst game', 'worst', 'stupid', 'toxic', 'game play', 'ew', 'play nerd', 'play']"
        ],
        [
         "37",
         "Age of Empires IV: Anniversary Edition",
         "['game', 'good', 'fun', 'great', 'play', 'aoe', 'like', 'good game', 'great game', 'love']",
         "['game', 'aoe', 'play', 'player', 'like', 'good', 'time', 'screen', 'update', 'feel']"
        ],
        [
         "38",
         "Far Cry® 4",
         "['good', 'game', 'far', 'good game', 'story', 'play', 'love', 'fun', 'like', 'great']",
         "['game', 'ubisoft', 'play', 'buy', 'suck', 'bad', 'far', 'launcher', 'connect', 'garbage']"
        ],
        [
         "39",
         "Destiny 2",
         "['game', 'good', 'play', 'great', 'fun', 'like', 'destiny', 'time', 'life', 'great game']",
         "['game', 'play', 'content', 'good', 'player', 'time', 'new', 'destiny', 'pay', 'money']"
        ],
        [
         "40",
         "Planet Coaster",
         "['game', 'good', 'fun', 'coaster', 'great', 'park', 'like', 'play', 'love', 'fun game']",
         "['game', 'buit', 'worth', 'coaster', 'build', 'buy', 'good', 'building', 'ride', 'game bad']"
        ],
        [
         "41",
         "My Time at Sandrock",
         "['game', 'love', 'good', 'time', 'good game', 'great', 'story', 'great game', 'fun', 'like']",
         "['game', 'play', 'time', 'multiplayer', 'invert', 'controller', 'axis', 'axis controller', 'controller unplayable', 'invert axis']"
        ],
        [
         "42",
         "Deep Rock Galactic",
         "['game', 'rock', 'stone', 'rock stone', 'fun', 'play', 'good', 'bug', 'friend', 'great']",
         "['game', 'mod', 'good', 'like', 'play', 'feel', 'player', 'hour', 'focus', 'friend']"
        ],
        [
         "43",
         "Elementary Anatomy: With Story Mode",
         "['mode', 'nice', 'layer', 'thing', 'learn', 'tool', 'ant', 'ant mode', 'improve', 'anatomy']",
         "['work', 'work interface', 'work controller', 'unpolished', 'interface extremely', 'interface', 'extremely clumsy', 'extremely', 'controller work', 'controller']"
        ],
        [
         "44",
         "CODE VEIN",
         "['game', 'good', 'fun', 'anime', 'soul', 'like', 'play', 'nice', 'code', 'story']",
         "['game', 'clunky', 'like', 'play', 'enemy', 'design', 'good', 'feel', 'crap', 'complet crap']"
        ],
        [
         "45",
         "Battlefield™ 2042",
         "['good', 'game', 'fun', 'battlefield', 'good game', 'like', 'play', 'bf', 'nice', 'amazing']",
         "['game', 'play', 'bf', 'bad', 'ea', 'battlefield', 'time', 'like', 'buy', 'good']"
        ],
        [
         "46",
         "0 Day",
         "['wait devs', 'wait', 'love game', 'love', 'game wait', 'game', 'devs']",
         "[]"
        ],
        [
         "47",
         "Baldur's Gate 3",
         "['game', 'play', 'good', 'story', 'character', 'great', 'love', 'amazing', 'like', 'time']",
         "['level', 'bg', 'way', 'like', 'character', 'game', 'gear', 'bad', 'look', 'feel']"
        ],
        [
         "48",
         "Sid Meier’s Civilization® VI",
         "['game', 'civ', 'fun', 'good', 'play', 'great', 'good game', 'like', 'strategy', 'love']",
         "['game', 'civ', 'play', 'like', 'time', 'ai', 'crash', 'fun', 'bad', 'good']"
        ],
        [
         "49",
         "Keep Driving",
         "['game', 'great', 'fun', 'music', 'play', 'good', 'like', 'love', 'feel', 'road']",
         "['game', 'like', 'run', 'fun', 'people', 'cash', 'enjoy', 'drive', 'feel', 'place']"
        ]
       ],
       "shape": {
        "columns": 3,
        "rows": 97
       }
      },
      "text/html": [
       "<div>\n",
       "<style scoped>\n",
       "    .dataframe tbody tr th:only-of-type {\n",
       "        vertical-align: middle;\n",
       "    }\n",
       "\n",
       "    .dataframe tbody tr th {\n",
       "        vertical-align: top;\n",
       "    }\n",
       "\n",
       "    .dataframe thead th {\n",
       "        text-align: right;\n",
       "    }\n",
       "</style>\n",
       "<table border=\"1\" class=\"dataframe\">\n",
       "  <thead>\n",
       "    <tr style=\"text-align: right;\">\n",
       "      <th></th>\n",
       "      <th>Game</th>\n",
       "      <th>Top_Positive_Words</th>\n",
       "      <th>Top_Negative_Words</th>\n",
       "    </tr>\n",
       "  </thead>\n",
       "  <tbody>\n",
       "    <tr>\n",
       "      <th>0</th>\n",
       "      <td>No Man's Sky</td>\n",
       "      <td>[game, play, good, space, like, great, fun, lo...</td>\n",
       "      <td>[game, bug, like, feel, time, thing, new, base...</td>\n",
       "    </tr>\n",
       "    <tr>\n",
       "      <th>1</th>\n",
       "      <td>The Binding of Isaac: Rebirth</td>\n",
       "      <td>[game, good, play, fun, like, isaac, good game...</td>\n",
       "      <td>[game, like, time, item, good, play, shit, fee...</td>\n",
       "    </tr>\n",
       "    <tr>\n",
       "      <th>2</th>\n",
       "      <td>Pathfinder: Kingmaker — Enhanced Plus Edition</td>\n",
       "      <td>[game, good, enjoy, great, pathfinder, good ga...</td>\n",
       "      <td>[game, nah, play, like, pathfinder, fun, encou...</td>\n",
       "    </tr>\n",
       "    <tr>\n",
       "      <th>3</th>\n",
       "      <td>MONSTER HUNTER RISE</td>\n",
       "      <td>[good, game, monster, hunter, fun, yes, world,...</td>\n",
       "      <td>[play, game, bad, monster, fun, remove, mid, d...</td>\n",
       "    </tr>\n",
       "    <tr>\n",
       "      <th>4</th>\n",
       "      <td>Artifact</td>\n",
       "      <td>[valve murder, valve, murder great, murder, gr...</td>\n",
       "      <td>[]</td>\n",
       "    </tr>\n",
       "    <tr>\n",
       "      <th>...</th>\n",
       "      <td>...</td>\n",
       "      <td>...</td>\n",
       "      <td>...</td>\n",
       "    </tr>\n",
       "    <tr>\n",
       "      <th>92</th>\n",
       "      <td>DiRT Rally</td>\n",
       "      <td>[game, rally, good, nice, rally game, old, car...</td>\n",
       "      <td>[]</td>\n",
       "    </tr>\n",
       "    <tr>\n",
       "      <th>93</th>\n",
       "      <td>The Sims™ 4</td>\n",
       "      <td>[good, game, fun, love, sim, play, like, good ...</td>\n",
       "      <td>[game, dlc, sims, sim, play, buy, ea, pack, wa...</td>\n",
       "    </tr>\n",
       "    <tr>\n",
       "      <th>94</th>\n",
       "      <td>Battlefield 4™</td>\n",
       "      <td>[good, game, battlefield, good game, yes, grea...</td>\n",
       "      <td>[game, server, punkbuster, play, kick, bug, mu...</td>\n",
       "    </tr>\n",
       "    <tr>\n",
       "      <th>95</th>\n",
       "      <td>Box Cat Bash</td>\n",
       "      <td>[fun, play, love, love bough, game, game love,...</td>\n",
       "      <td>[]</td>\n",
       "    </tr>\n",
       "    <tr>\n",
       "      <th>96</th>\n",
       "      <td>Rust</td>\n",
       "      <td>[game, fun, play, good, rust, server, good gam...</td>\n",
       "      <td>[game, play, load, time, like, ban, server, ho...</td>\n",
       "    </tr>\n",
       "  </tbody>\n",
       "</table>\n",
       "<p>97 rows × 3 columns</p>\n",
       "</div>"
      ],
      "text/plain": [
       "                                             Game  \\\n",
       "0                                    No Man's Sky   \n",
       "1                   The Binding of Isaac: Rebirth   \n",
       "2   Pathfinder: Kingmaker — Enhanced Plus Edition   \n",
       "3                             MONSTER HUNTER RISE   \n",
       "4                                        Artifact   \n",
       "..                                            ...   \n",
       "92                                     DiRT Rally   \n",
       "93                                    The Sims™ 4   \n",
       "94                                 Battlefield 4™   \n",
       "95                                   Box Cat Bash   \n",
       "96                                           Rust   \n",
       "\n",
       "                                   Top_Positive_Words  \\\n",
       "0   [game, play, good, space, like, great, fun, lo...   \n",
       "1   [game, good, play, fun, like, isaac, good game...   \n",
       "2   [game, good, enjoy, great, pathfinder, good ga...   \n",
       "3   [good, game, monster, hunter, fun, yes, world,...   \n",
       "4   [valve murder, valve, murder great, murder, gr...   \n",
       "..                                                ...   \n",
       "92  [game, rally, good, nice, rally game, old, car...   \n",
       "93  [good, game, fun, love, sim, play, like, good ...   \n",
       "94  [good, game, battlefield, good game, yes, grea...   \n",
       "95  [fun, play, love, love bough, game, game love,...   \n",
       "96  [game, fun, play, good, rust, server, good gam...   \n",
       "\n",
       "                                   Top_Negative_Words  \n",
       "0   [game, bug, like, feel, time, thing, new, base...  \n",
       "1   [game, like, time, item, good, play, shit, fee...  \n",
       "2   [game, nah, play, like, pathfinder, fun, encou...  \n",
       "3   [play, game, bad, monster, fun, remove, mid, d...  \n",
       "4                                                  []  \n",
       "..                                                ...  \n",
       "92                                                 []  \n",
       "93  [game, dlc, sims, sim, play, buy, ea, pack, wa...  \n",
       "94  [game, server, punkbuster, play, kick, bug, mu...  \n",
       "95                                                 []  \n",
       "96  [game, play, load, time, like, ban, server, ho...  \n",
       "\n",
       "[97 rows x 3 columns]"
      ]
     },
     "execution_count": 46,
     "metadata": {},
     "output_type": "execute_result"
    }
   ],
   "source": [
    "df_top_words"
   ]
  },
  {
   "cell_type": "markdown",
   "metadata": {},
   "source": [
    "As we can see the words have some like \"game\", \"good\", \"play\", \"great\", \"bad\" that doesnt really say nothing to us, therefore we have to add them to a stopword list to remove them."
   ]
  },
  {
   "cell_type": "code",
   "execution_count": null,
   "metadata": {},
   "outputs": [],
   "source": []
  }
 ],
 "metadata": {
  "kernelspec": {
   "display_name": "3.11.9",
   "language": "python",
   "name": "python3"
  },
  "language_info": {
   "codemirror_mode": {
    "name": "ipython",
    "version": 3
   },
   "file_extension": ".py",
   "mimetype": "text/x-python",
   "name": "python",
   "nbconvert_exporter": "python",
   "pygments_lexer": "ipython3",
   "version": "3.11.9"
  }
 },
 "nbformat": 4,
 "nbformat_minor": 2
}
