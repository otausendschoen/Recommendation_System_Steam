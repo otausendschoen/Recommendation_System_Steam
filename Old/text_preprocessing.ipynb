{
 "cells": [
  {
   "cell_type": "code",
   "execution_count": 45,
   "metadata": {},
   "outputs": [],
   "source": [
    "import pandas as pd\n"
   ]
  },
  {
   "cell_type": "code",
   "execution_count": 46,
   "metadata": {},
   "outputs": [
    {
     "data": {
      "application/vnd.microsoft.datawrangler.viewer.v0+json": {
       "columns": [
        {
         "name": "index",
         "rawType": "int64",
         "type": "integer"
        },
        {
         "name": "Game",
         "rawType": "object",
         "type": "string"
        },
        {
         "name": "Review",
         "rawType": "object",
         "type": "unknown"
        },
        {
         "name": "Recommended",
         "rawType": "bool",
         "type": "boolean"
        },
        {
         "name": "Genre",
         "rawType": "object",
         "type": "string"
        }
       ],
       "conversionMethod": "pd.DataFrame",
       "ref": "3e4eb787-0690-43b8-ab3a-05d1d1b17341",
       "rows": [
        [
         "0",
         "Company of Heroes 3",
         "I still believe CoH2 is the superior choice currently, if you haven't tried/gotten used to the new QoLs in this game. These are all the currently main issues that affect me as a PVE only player.\n\n1. AI sucks, they're really easy to predict and usually only have a single build order. For example, they have a fixed rule of \"if vehicle is less than 20% hp, retreat to base regardless of situation\" and since the AI can see through FOW, units sometimes cower in cover before you see them, tanks run to the edges of the map.\n2. Modding has been severely limited in this game intentionally, leading to some mod devs to even choose to stay with CoH2.\n3. Worse atmosphere and audio, the lighting just seems off, voicelines are not memorable and some are recycled between units. We had faction specific main menu music, battle and victory themes in CoH2, it's the same every faction every game in CoH3.\n4. The new dlc, they are charging us half the price of the base game. Personally, even if this was a F2P game, locking more than half of the heavy tanks behind a dlc feels scummy. (DLC contains Pershing, Elefant, King Tiger and Churchill Crocodile. Base contains Churchill, it's variant Black Prince and Tiger.)\n5. The new CoH3 merit system. Complete challenges and supposedly earn battlegroups (the DLCs) and skins with the in game merit currency system. This was changed recently, battlegroups are now not earnable, the skin shop is just sad with very limited choices. Hundreds of hours spent on the merit challenges just to have the main reward silently taken away, mentioned only in one update post.\n\nMost of my time spent in CoH3 was earning merit challenges in boring games whereas in CoH2 I played for fun. At least for VS Ai players, I highly recommend staying with/getting CoH2 with mods. I cannot recommend enough All Units (170 added) mod by SneakEye and avoiding CoH3 for now.",
         "False",
         "Action, Strategy"
        ],
        [
         "1",
         "Company of Heroes 3",
         "I Pre-ordered the premium edition version of this game after putting hundreds of hours into COH2, a game that i loved and enjoyed for years... From the fun and re-playable coop missions to the almost overwhelming choice of commander/battlegroups... then COH3 releases and i could not feel more disappointed at state of the game. Absolutely pathetic choice of battlegroups, ZERO coop missions and not a sign or trace of seeing those glorious coop missions that we as a fanbase got to experience in COH2 anytime soon...  SHAME ON YOU RELIC! \n\nAfter over 2 years of updates and bugfixes to make it somewhat enjoyable they release the FIRE AND STEEL DLC that is 32.49$ CAD..... all of these battlegroups should be added to the base game. Absolute MONEY-GRABBING game development tactics.                                                SHAME ON YOU RELIC!\n\nThe devs should compensate the players who bought the premium addition and spent 20$ on the absolute Dinosaur doo-doo pile called HAMMER AND SHIELD and give them DLC for free. \n\nThis game should have been released in early access with a 29.99 price tag.. pathetic. Even with the sour taste of Relics failures in my mouth i still continue playing COH3 while the RELIC slowly works towards giving us what should have been a finished product 2 years ago.\n\n                                                                                   SHAME ON YOU RELIC!",
         "False",
         "Action, Strategy"
        ],
        [
         "2",
         "Company of Heroes 3",
         "An underwhelming, expensive cash grab. Very low content, super meta units, very high prices and insanely low grade DLC that cost 1/3 or 1/2 the price of the game. Awful balancing for multiplayer.",
         "False",
         "Action, Strategy"
        ],
        [
         "3",
         "Company of Heroes 3",
         "Here is my actual review. COH3 has the best QoL in the franchise. SO much so I stopped playing COH1 and 2. Both are favorites to me. But COH3 just feels better. Balance is in a much better state as well as the game. The game is taking longer to reach where it needs to be now with a smaller team, but it is a team that cares. This game received too much hate on launch because people compared to an almost 20 year old coh1, and a 10+ year old COH2. But base game to base game COH3 had so much more content than either game on launch. And its bolstered on to it.\n\nWith new commanders coming it should breath new life into the game. Relic has been doing a great job to the improvement of the game. It is personally my favorite RTS to date. I highly suggest you try this game, and do it with an open mind as its style does differ from traditional coh titles. But once you grasp it, it just becomes that much more fun then it ever was before.\n\nThe only thing COH3 is lacking is commander diversity which will come in time, and once we hit that level of content, COH1 and 2 will become completely irrelevant. So give it a try, do so with an open mind, and lets keep our beloved franchise alive!",
         "True",
         "Action, Strategy"
        ],
        [
         "4",
         "Company of Heroes 3",
         "They listed my GPU as supported and then quietly patched out support back in the first year, well after the refund window had passed. Absolutely heinous rug pull from a heinous company. This hot garbage is just stuck in my steam library but just crashes and they intend to do nothing about it. Money genuinely stolen.",
         "False",
         "Action, Strategy"
        ],
        [
         "5",
         "Company of Heroes 3",
         "     Even with worse graphic....Coh 2 is better in many area. And now with the pay wall to access heavy tank for late game with fire and steel dlc....this is such a bad move. If you main US force you just got slap in the face. It's like playing red alert and you can't build a kirov or apocalypse tank. Yeah yeah....you can field more medium tank. But any player that worth their salt will win in a material trade with a heavy tank survivability.  \n\n     I restrain myself for put this game into a negative review since launch. Because i know relic can do better. So I waited....with faith. But now? With this DLC practice? Here you go. You done it this time.",
         "False",
         "Action, Strategy"
        ],
        [
         "6",
         "Company of Heroes 3",
         "I resisted for quite a while to buy this game as I didn't expect the game to be much different than CoH2...\n\nFinally remembered to play it for free during promotion days and after one evening I went and bought it.\n\nGame feels faster as the units are quicker to die, base building no longer requires engineers which feels nice and efficient and all in all the game feels surprisingly different compared to the predecessors while at the same time being even more fun.\n\nSure... It's not CoH 1 or 2... But if I want to play those, I actually go and play those so it's nice to see Relic still innovating and producing sequels that feel worthy of an actual new game.",
         "True",
         "Action, Strategy"
        ],
        [
         "7",
         "Company of Heroes 3",
         "Latest patch with the v1 makes anything other then 1v1 a nightmare.\n\nWould not recommend unless you only play it for the 1v1.\n\nAlso, if you got any kind of hearing impairment, dont play allies. \nThe V1 doesnt signal when launched other than a low sound thats barely audible.",
         "False",
         "Action, Strategy"
        ],
        [
         "8",
         "Company of Heroes 3",
         "The game does not work. I tried playing the game and the player models are in t-post stance. I also can not move my units it selected locations.",
         "False",
         "Action, Strategy"
        ],
        [
         "9",
         "Company of Heroes 3",
         "Final Thoughts\nCompany of Heroes 3 is a stunning evolution of the series, blending innovative features with the traditional tactical brilliance that fans have come to expect. The dynamic campaign, enhanced combat mechanics, and breathtaking visuals make it one of the best real-time strategy games available today. Whether you're a long-time fan or a newcomer to the series, Company of Heroes 3 delivers an experience that is both deeply strategic and incredibly rewarding.\n\nRelic Entertainment has once again proven why Company of Heroes remains one of the gold standards in the RTS genre. If you’re a fan of military strategy games, this is a title you absolutely cannot miss.",
         "True",
         "Action, Strategy"
        ],
        [
         "10",
         "Company of Heroes 3",
         "Fixes after fixes have been released, but even the fundamental bugs have not been fixed at all.\r\n\r\nThe Anzio landing bug has existed since the initial game release, but after a few years, it has still not been fixed, and new bugs have even been introduced.\r\n\r\nThis ain't Company of Heroes 3, but it's Bugs of Zero 3.\r\nThis game is so lame, and so much disappointing.",
         "False",
         "Action, Strategy"
        ],
        [
         "11",
         "Company of Heroes 3",
         "I can kinda see where they were trying to go with this newer rendition of the game, but as it stands, the developers ruined what made the CoH2 fun. \n\nWhy let me build tank traps to block vehicles if heavier tanks can just drive through them? Relic essentially took away your ability to bottleneck and focus defenses on one sector and instead forces you to play like a hotkey maniac. \n\nGraphically, it does not feel like a WW2 game either. It is very bright and colorful without the gritty vibe of CoH2. It looks and feels more like an arcade game to be honest.\n\nOverall, the game feels like it was not designed for who was playing it before. It looks like Relic wanted a different platform that would allow them to monetize the shit out of it for a more hyper sweaty audience (like they want to be the WW2 version of Starcraft or something).\n\n",
         "False",
         "Action, Strategy"
        ],
        [
         "12",
         "Company of Heroes 3",
         "I would love to recommend this game, but in its current state, I can't.\n\nWhy? Is it because the game isn't finished enough? \nWell kinda, but that's not my biggest issue with it.\n\n\nThe biggest issue is the cost. It's a very expensive game for what you get for it, and additionally, most of the content being added isn't included in the base game, but rather is half as expensive as the already-too-expensive game itself. Then to consider the fact that if you want a single 'battlegroup' as it were, you have to pay for other ones you may have zero interest in playing with, or trying. You HAVE TO pay for those other ones, to access the one you may want. \n\nBut what about the gameplay?\n\nIt's actually fun, in pvp. Unlike in CoH2 where players would always try to rush tanks and they would be nearly unstoppable, it's worth considering that the tanks are actually a lot more receptive to damage, especially from flanking, which makes positioning way more important than in previous titles (although it was important then as well). There are handy new QoL improvements, although your muscle memory of pressing T to retreat will get your squads killed because that standard button is now R. I'm not saying you CAN'T rush tanks and be unstoppable, but when you're getting your first tanks out, you have to be more careful with them, because infantry can do some serious damage, given the right equipment. \n\nI will say though, the Axis powers feel somewhat weak compared to their predecessors. I mean, where's the panzershreks? (Locked behind a paywall!)\n\nNow, onto the state of the game: \n\nIt's fun, but again, it feels unfinished. This is especially disappointing because the game has now been out for 2 years. Instead of more content for players who paid for the overly expensive game, there's content being monetized at half the cost of the base game itself. Formerly free content is also poised to become 'not free' and cost roughly half of that cost before the end of the month, if you didn't claim it before then. \n\nI understand the need to continue to have cash flow in the business, but overcharging for everything isn't going to do you any favors with your consumers, because there's other games (including your own former title) that, in spite of its own flaws, has a... better monetization scheme. Instead of $30 battlegroups that contain several that you may never touch, consider CoH2, where commanders would cost something like $3-4, and there were already plenty of them that were accessible to players who only owned the base game (not including the problematic nature of only having 2 of the factions available to play for free). \n\nLower the costs. Friends of mine tried the free weekend and refuse to pay the extreme cost of the game, even at a 50% discount due to how predatory the cost is, for what included content is available.",
         "False",
         "Action, Strategy"
        ],
        [
         "13",
         "Company of Heroes 3",
         "game has come a long way since release but can feel like a cash grab every time there is something added. new content is also very slow to come out. I have always loved COH and im still holding on for them to be better.",
         "True",
         "Action, Strategy"
        ],
        [
         "14",
         "Company of Heroes 3",
         "A great RTS that is going to get better with each major update - now is the time to start playing with the new DLC incoming. There are no other games like this on Steam!",
         "True",
         "Action, Strategy"
        ],
        [
         "15",
         "Company of Heroes 3",
         "I only play multiplayer and have owned the game since launch.  The game started out in more of a beta state and took quite a while to get the game in a respectable balance state so this is partly why this game isn't as highly rated.  At this point, the game is in a good state and is fun to play. Would recommend you check it out if you enjoy RTS games.",
         "True",
         "Action, Strategy"
        ],
        [
         "16",
         "Company of Heroes 3",
         "I purchased this game for the Christmas holidays last year. COH was one of my favorite franchises and I figured that there had been sufficient time since launch for the bugs of the game to get ironed out. Also, I really enjoy playing the campaign of the game, even if the story can be uneven at times. So, I was looking forward to spending some time on this game...\n\n...I wish I had returned it.\n\nThe campaign is dull, uninspired and a bug-filled mess. I finished the DAK campaign and it was a total bore, with not a lot of interesting things or scenarios to play out. The story was abysmal and the characters feel like caricature of historical figures/peoples. \n\nThe Italian Campaign was worse story-wise, but at least I thought that the skirmish-type gameplay and random scenarios were at least somewhat less monotonous. I was even starting to enjoy the game slightly - but then I ran into a bug where a city would continuously get attacked and defended, but even if I win the battle the city would remain in enemy hands. The balance is also extremely wonky - some maps are pushovers, some are deathmarches that have you lose even if you micro well as the AI seems like it never loses resources nor men to throw at you.\n\nExtremely disappointing - unless you really wanna play multiplayer, dont buy this game. Even then - COH2 is a much more polished product + cheap as chips nowadays.\n\nEDIT: This game was so disappointing that even though I hadn't played it for weeks - seeing it in my library as I was cleaning my storage pushed me to writet his negative review.",
         "False",
         "Action, Strategy"
        ],
        [
         "17",
         "Company of Heroes 3",
         "if more developers continue to pursue the same development of Cash and grab, steam really needs to allow refunds for low hours.   i tried giving this game a chance, being a huge fan of COH series, over 1500 hours in COH1, this.... this is just a disgrace. to add salt in the wounds i bought the deluxe addition.",
         "False",
         "Action, Strategy"
        ],
        [
         "18",
         "Company of Heroes 3",
         "I had almost two thousand hours combined in the first CoH. This game reminds me of an updated CoH1 with better graphics/visuals while improving gameplay mechanics.",
         "True",
         "Action, Strategy"
        ],
        [
         "19",
         "Company of Heroes 3",
         "Another great RTS game! The new theater of war would be an incredible addition to the game. It brings the Mediterranean and North African fronts to life, with the potential to explore entirely new regions, battles, and historical conflicts being vast.",
         "True",
         "Action, Strategy"
        ],
        [
         "20",
         "Company of Heroes 3",
         "This was a complete dumpster fire at launch but it appears Relic have pulled off a miraculous recovery and fixed this with the 2.0 Update.\n\nCoH 3 channels the original game with some added unit variety. Ditto for unit gameplay and balance.\n\nIf only they could do the same for Dawn of War 3.",
         "True",
         "Action, Strategy"
        ],
        [
         "21",
         "Company of Heroes 3",
         "i would recommend it for a person that want to sit and relax on a single player campain, esspecialy when you  like ww2 stragety games just for fun and enjoymenent.",
         "True",
         "Action, Strategy"
        ],
        [
         "22",
         "Company of Heroes 3",
         "As a veteran of all 3 installments of CoH, this is my favorite. Building upon the ground breaking features and gameplay from the original CoH, this game is a well rounded mix of previous games with the expected graphics and quality of life improvements for a recent release. Older reviews of this game detail the rocky start, but currently this game is really rolling. Developers have been releasing regular balance updates, additional gameplay features, new maps, improved enemy AI, etc. Steam Workshop support is also great for mod content, community made maps, and custom missions.\n\nThis franchise is a pillar of the RTS genre and CoH3 does not disappoint. Highly recommend!",
         "True",
         "Action, Strategy"
        ],
        [
         "23",
         "Company of Heroes 3",
         "I've been a fan of coh & relic since the release of coh2.\nRelic have made considerable improvements in coh3, Love the game-play, audio and graphics but the main attraction, the multiplayer is just in a constant terrible state and I just can't recommend the game because of it.\n\nThere are two areas that just ruins multiplayer:\n[olist]\n[*] The cheats. Since the start of 2025, the number of exploits and cheats like fov expansion and fog of war removal has grown staggeringly. I come across this in every 2-3 matches and it's just a nuisance to play against. Artillery/Mortar on hidden units, nullifies your flanks, and then exploits your openings.\nRelic do have reporting system and claim to take action since the release of the fire & steel, but it's not the case, in fact, there is more cheats now than ever.  It is just not fun to play against. \n\nI don't like to throw accusations of cheats out there, but relics replay system and pov of the suspect makes it very easy to verify this, some don't even try to hid it in the first place... There have been numerous reddit posts about this and it's just so easy to cheat in this game it's wild. I will say cheats is THE biggest problem/hindrance for coh3 multiplayer \n\n[*]The unit exploits. It is no surprise to bring up blobbing in this franchise... but it is just sad in coh3. What's the point of diversifying units when you can just build 8 main line infantry, mgs, or any other of the same unit and throw them out all at once? I see it mainly with USF and riflemen (or rangers), Brits and crusaders, Werhm and mgs, Dakand Bersa. In low and high elo games there is no sense of strategy, just keep throwing a large volume of the same unit and you will have success.\n\nAt least in coh2 there were better counters to this, but Relic just can not find a way to balance this in coh3 despite them acknowledging the issue but making no real effort to solve it... It is a boring play style to play as or against in this game.\n[/olist]\n\nIn the end, I've always liked Relic as a studio, I do understand their constraints now being an independent studio and they do try to improve the game... but in the wrong way. Audio, graphics, new units etc have all been massively improved and gives a fresh breath, but the 2 foundational problems just ruins the experience and damages Relics efforts to get more people to contiinously play and support the game.",
         "False",
         "Action, Strategy"
        ],
        [
         "24",
         "Company of Heroes 3",
         "Solid multiplayer experience, the game had some teething issues that are worked out now, and its the only new RTS of its kind out there right now",
         "True",
         "Action, Strategy"
        ],
        [
         "25",
         "Company of Heroes 3",
         "I have played the COH games since COH 1's release back in early 2000's. As an Average player on all of the COH games, I have to say hands down COH3 is by far the best version I have ever played, Mind you there are some good things that each had special to it as well as bad. COH3 has a lot of potential despite its immature release, it took a long time to get at where it is now but honestly props to the Dev's and staff of Relic as they had to earn there respect as an effective fun RTS Game Company. I have a lot of respect for relic and there hard work keep it up please. In the future I hope they start adding more utility to units and as well as more light medium vehicle option for example a Bren Carrier would be really cool for British. Any ways I give this game a thumbs up Im not going to thumbs down a game like COH3  like most have been because of there personal gripes. I know RTS games are not easy to create and balance  so be patient it takes time and it will get better over time like all the other COH's before, I know....",
         "True",
         "Action, Strategy"
        ],
        [
         "26",
         "Company of Heroes 3",
         "its good. Not as good as COH2, and doesn't reflect a full price game.",
         "True",
         "Action, Strategy"
        ],
        [
         "27",
         "Company of Heroes 3",
         "It scratches the RTS itch. Gameplay is decent, and game's getting better every update.",
         "True",
         "Action, Strategy"
        ],
        [
         "28",
         "Company of Heroes 3",
         "It looks like a alpha game build, it does not look like a finished product. There are too few players as well, you will spend a long time looking for players and most of them aren't very good too, as a COH2 veteran the COH2 has a lot more stuff, take the camos for instance in COH3 they are totally random and there are some kind camos that only apply to one unit! It's not like COH2 where they can applied to all vehicles, which in a COH looks weird in a development point of view like:\"So the Fallen Leaf camo only applies to 3 tanks and like 2 infantry units?\"; \"So I can't apply camos to the Tiger or Panther or King Tiger in the Wehrmacht but I can apply for the Tiger in the Afrika Corps but not for thr Ferdinand?\". Which sounds dumb, we can clearly see that this was rushed through production and they have no talent left to fix it. And the AI still has that nasty habit of VIEWING THE ENTIRE MAP ALL THE TIME, which is game breaking at times:\"Oh look I am assembling all my forces here far from the line of sight of the enemy... is that a airstrike and an artillary strike in the middle of the formation?!\". In my opinion they should start fixing the Cosmetics and do them like in COH2, that system was a Work Of Art!! Instead of launching an expansion and keeping the same problems. Now they came a long way for the Zero Day COH3 which was a copy and paste of COH2, unstable, cartoony and goofy at times. There are things that are really cool like: the sound effects, some of the visual effects, death animnations, vehicle wreckages, but still it leaves much to be desired in the UI and AI. Just fix the Cosmetics by making camos available for every unit including the Call Ability ones; Fix the AI omniscience; And another thing that really bothers me like hell is when the vehicles treads do not match their speed and it looks like they are floating or sliding like on the King Tiger. I just bought the game and every content to help them out, maybe they really want to fix it.",
         "False",
         "Action, Strategy"
        ],
        [
         "29",
         "Company of Heroes 3",
         "After waiting a while for proper fixes and patches, this is a great game now. It’s a shame I had to wait a few years to jump in, but I’m glad I did.\n\nRelic, with all love y’all have got to work on your launch. First impressions are everything.",
         "True",
         "Action, Strategy"
        ],
        [
         "30",
         "Company of Heroes 3",
         "Very fun and addictive skirmish and multiplayer gameplay. Lots of different play styles.",
         "True",
         "Action, Strategy"
        ],
        [
         "31",
         "Company of Heroes 3",
         "Tried it for the free weekend. Liked it so much i bought it.\r\n50% off and it feels like a solid purchase.\r\n\r\nLots of people dislike the campaigns turn based,  grand Strategy layer. But i found it well implemented.",
         "True",
         "Action, Strategy"
        ],
        [
         "32",
         "Company of Heroes 3",
         "Really fun singleplayer campaign. The addition of the total war style grand campaign map, with skirmishes and missions taking place in the classic RTS game mode is a huge plus for me, and has given me a huge case of one-more-turn-itis. \nTried for free, ended up sinking roughly 13 hours into it and can safely say it is well worth the purchase.\n\nI can't speak to how the game was at launch, or to the multiplayer component, but at least for singleplayer everything seems top notch, the sound effects, graphics and gameplay are all immersive and satisfying.\n\nAdditionally, this game is the perfect compliment to the show Rogue Heroes, having just received it's second season, which is also a must watch if you are interested in this period.",
         "True",
         "Action, Strategy"
        ],
        [
         "33",
         "Company of Heroes 3",
         "i like the new turn based parts of the campaigns and graphics are great",
         "True",
         "Action, Strategy"
        ],
        [
         "34",
         "Company of Heroes 3",
         "Has better graphics, and QOL improvements over COH 2. UI has changed but i prefer COH 3 over COH 2.",
         "True",
         "Action, Strategy"
        ],
        [
         "35",
         "Company of Heroes 3",
         "Fan of COH since the beginning, purchased this game on PS5 and very disappointed it is no longer supported there. I knew I would have to get this game for pc before that even happened though. So far happy with the content provided and hope to continue seeing things added, maybe new campaigns would be nice also.",
         "True",
         "Action, Strategy"
        ],
        [
         "36",
         "Company of Heroes 3",
         "The maps repeat a little too much which is unfortunate (although now they've fixed that and there are fan made maps), but the gameplay has kept me coming back time and time again. \r\nI love the sound effects and seeing things like tank shells and artillery shells bouncing off tank armor, and its satisfying when you get rushed by tanks, but your anti tank troops just shred them and kill enemy morale. \r\nThe destructible environments are really cool to watch as well - seeing buildings crumble after tanks hit them or seeing walls crumble when your tanks go through them. \r\nOverall its a really fun game to come back to time and time again.",
         "True",
         "Action, Strategy"
        ],
        [
         "37",
         "Company of Heroes 3",
         "Entertaining, almost arcade-like. Feels closer to the action than Warno or Regiments.",
         "True",
         "Action, Strategy"
        ],
        [
         "38",
         "Company of Heroes 3",
         "Just purchased the game! I love RTS games, and this game does not disappoint! Developers are active and continue to improve game. Gameplay is very fun and even though I am a newb and don't know what I'm doing I am having a blast. Highly recommend.",
         "True",
         "Action, Strategy"
        ],
        [
         "39",
         "Company of Heroes 3",
         "I have enjoyed this game since launch, even though it's had a rocky start. Now it feels like it's firing on all cylinders.",
         "True",
         "Action, Strategy"
        ],
        [
         "40",
         "Company of Heroes 3",
         "Good Game! Was very hesitant to purchase when released as the reviews then were rampant with comments like a half baked game and it wasn't ready for release. So I waited until last year when it was 50 percent off, and since then I can't complain at all. I currently have almost 200 hours on record and will have dozens more after this update.\n\nIf you have over 50, 100 hours you clearly like the game. For comparison, I can expect to spend 10 dollars for a fast-food meal, so 60/30 dollars for a game or 20ish for a DLC is well worth the money. With my current hours and current invest into the game averages out to 0.75 cents and hour. How much value are people really going to cry about? They also gave \n free content back then which was a great apology and discounted another DLC which was kinda lackluster albeit. \n\nAll in all a great game that I'll gladly support. RTS is not dead yet, but if we don't continue to support the Devs that constantly work on creating more content and updating their games, then we are destroying our own community.  We can't except them to constantly work for free. \n\nThere are so many games that are released, review bombed and subsequently dropped and abandoned. OR we complain that releases aren't pushed fast enough, or updates and DLC aren't made quick enough, well we can't have our cake and eat it too. It takes massive amounts of time, energy, effort and money to produce these games. \n\nIr you like RTS games, WW2 and multiple games pick this up you won't disappointed. \n\n\n",
         "True",
         "Action, Strategy"
        ],
        [
         "41",
         "Company of Heroes 3",
         "Great update!  Love the game and the new tanks!",
         "True",
         "Action, Strategy"
        ],
        [
         "42",
         "Company of Heroes 3",
         "This game is a thrilling blend of intense combat, deep tactical mechanics and great visuals that cements its place as one of the finest WW2 real-time strategy games in recent memory. Multiplayer is especially fun in 4vs4, battles can become really epic and immersive. Rough start, but most of the problems are fixed in the past year.",
         "True",
         "Action, Strategy"
        ],
        [
         "43",
         "Company of Heroes 3",
         "Great game. Devs keep making good updates.",
         "True",
         "Action, Strategy"
        ],
        [
         "44",
         "Company of Heroes 3",
         "The game is fun. overall a really enjoyable game. BUT...\n\nI Wish the developers add more vision range for most units. Its frustrating that most units' vision range is very very short (my guess is about 35 meters only). Comically short. This leads frustration and slow gameplay. The units are soo blind.\n\nThe Devs should try Increasing the vision range without affecting the current attack range.",
         "True",
         "Action, Strategy"
        ],
        [
         "45",
         "Company of Heroes 3",
         "Incredible... so intense that I have to leave my military theme toys for good. The digital version is more fun to engage.",
         "True",
         "Action, Strategy"
        ],
        [
         "46",
         "Company of Heroes 3",
         "I've enjoyed what I've played so far. The multiplayer is the most fun. I'm excited for the 2.0 release tomorrow.",
         "True",
         "Action, Strategy"
        ],
        [
         "47",
         "Company of Heroes 3",
         "COH3 launched in a pretty funky state, but Relic has steadily layered in improvements to the point that I'd call this the quintessential COH experience. The campaign map stuff adds a lot of depth to the single player experience, and skirmishes/pvp bring me back to the glory days of COH1. Looking forward to the future of the game!",
         "True",
         "Action, Strategy"
        ],
        [
         "48",
         "Company of Heroes 3",
         "Been playing COH from the beginning so I expected a lot from this latest installment It did startoff rocky and looked like a fast cashgrab. However with SEGA out of the picture there's been a huge change in the direction for the game. Excited to see where this will be in the next year.",
         "True",
         "Action, Strategy"
        ],
        [
         "49",
         "Company of Heroes 3",
         "4v4 still wildly favours axis but the game is super fun. I had 2k hours in coh2 and I think this is a good successor. Combat is faster and more dynamic, and there's a bit more unit variety. Relic just needs to fix USF in 4v4 particularly. Also bring back the coh2 USF weapon rack system.",
         "True",
         "Action, Strategy"
        ]
       ],
       "shape": {
        "columns": 4,
        "rows": 40649
       }
      },
      "text/html": [
       "<div>\n",
       "<style scoped>\n",
       "    .dataframe tbody tr th:only-of-type {\n",
       "        vertical-align: middle;\n",
       "    }\n",
       "\n",
       "    .dataframe tbody tr th {\n",
       "        vertical-align: top;\n",
       "    }\n",
       "\n",
       "    .dataframe thead th {\n",
       "        text-align: right;\n",
       "    }\n",
       "</style>\n",
       "<table border=\"1\" class=\"dataframe\">\n",
       "  <thead>\n",
       "    <tr style=\"text-align: right;\">\n",
       "      <th></th>\n",
       "      <th>Game</th>\n",
       "      <th>Review</th>\n",
       "      <th>Recommended</th>\n",
       "      <th>Genre</th>\n",
       "    </tr>\n",
       "  </thead>\n",
       "  <tbody>\n",
       "    <tr>\n",
       "      <th>0</th>\n",
       "      <td>Company of Heroes 3</td>\n",
       "      <td>I still believe CoH2 is the superior choice cu...</td>\n",
       "      <td>False</td>\n",
       "      <td>Action, Strategy</td>\n",
       "    </tr>\n",
       "    <tr>\n",
       "      <th>1</th>\n",
       "      <td>Company of Heroes 3</td>\n",
       "      <td>I Pre-ordered the premium edition version of t...</td>\n",
       "      <td>False</td>\n",
       "      <td>Action, Strategy</td>\n",
       "    </tr>\n",
       "    <tr>\n",
       "      <th>2</th>\n",
       "      <td>Company of Heroes 3</td>\n",
       "      <td>An underwhelming, expensive cash grab. Very lo...</td>\n",
       "      <td>False</td>\n",
       "      <td>Action, Strategy</td>\n",
       "    </tr>\n",
       "    <tr>\n",
       "      <th>3</th>\n",
       "      <td>Company of Heroes 3</td>\n",
       "      <td>Here is my actual review. COH3 has the best Qo...</td>\n",
       "      <td>True</td>\n",
       "      <td>Action, Strategy</td>\n",
       "    </tr>\n",
       "    <tr>\n",
       "      <th>4</th>\n",
       "      <td>Company of Heroes 3</td>\n",
       "      <td>They listed my GPU as supported and then quiet...</td>\n",
       "      <td>False</td>\n",
       "      <td>Action, Strategy</td>\n",
       "    </tr>\n",
       "    <tr>\n",
       "      <th>...</th>\n",
       "      <td>...</td>\n",
       "      <td>...</td>\n",
       "      <td>...</td>\n",
       "      <td>...</td>\n",
       "    </tr>\n",
       "    <tr>\n",
       "      <th>40644</th>\n",
       "      <td>Baldur's Gate 3</td>\n",
       "      <td>It's not just a game! It's a whole story that ...</td>\n",
       "      <td>True</td>\n",
       "      <td>Adventure, RPG, Strategy</td>\n",
       "    </tr>\n",
       "    <tr>\n",
       "      <th>40645</th>\n",
       "      <td>Baldur's Gate 3</td>\n",
       "      <td>It's the closest you're going to get to playin...</td>\n",
       "      <td>True</td>\n",
       "      <td>Adventure, RPG, Strategy</td>\n",
       "    </tr>\n",
       "    <tr>\n",
       "      <th>40646</th>\n",
       "      <td>Baldur's Gate 3</td>\n",
       "      <td>verry gooood gammeeee. I slept on it for to lo...</td>\n",
       "      <td>True</td>\n",
       "      <td>Adventure, RPG, Strategy</td>\n",
       "    </tr>\n",
       "    <tr>\n",
       "      <th>40647</th>\n",
       "      <td>Baldur's Gate 3</td>\n",
       "      <td>Funny wild magic sorceror Durge run made every...</td>\n",
       "      <td>True</td>\n",
       "      <td>Adventure, RPG, Strategy</td>\n",
       "    </tr>\n",
       "    <tr>\n",
       "      <th>40648</th>\n",
       "      <td>Baldur's Gate 3</td>\n",
       "      <td>this game is amazing and a blast to play. ever...</td>\n",
       "      <td>True</td>\n",
       "      <td>Adventure, RPG, Strategy</td>\n",
       "    </tr>\n",
       "  </tbody>\n",
       "</table>\n",
       "<p>40649 rows × 4 columns</p>\n",
       "</div>"
      ],
      "text/plain": [
       "                      Game                                             Review  \\\n",
       "0      Company of Heroes 3  I still believe CoH2 is the superior choice cu...   \n",
       "1      Company of Heroes 3  I Pre-ordered the premium edition version of t...   \n",
       "2      Company of Heroes 3  An underwhelming, expensive cash grab. Very lo...   \n",
       "3      Company of Heroes 3  Here is my actual review. COH3 has the best Qo...   \n",
       "4      Company of Heroes 3  They listed my GPU as supported and then quiet...   \n",
       "...                    ...                                                ...   \n",
       "40644      Baldur's Gate 3  It's not just a game! It's a whole story that ...   \n",
       "40645      Baldur's Gate 3  It's the closest you're going to get to playin...   \n",
       "40646      Baldur's Gate 3  verry gooood gammeeee. I slept on it for to lo...   \n",
       "40647      Baldur's Gate 3  Funny wild magic sorceror Durge run made every...   \n",
       "40648      Baldur's Gate 3  this game is amazing and a blast to play. ever...   \n",
       "\n",
       "       Recommended                     Genre  \n",
       "0            False          Action, Strategy  \n",
       "1            False          Action, Strategy  \n",
       "2            False          Action, Strategy  \n",
       "3             True          Action, Strategy  \n",
       "4            False          Action, Strategy  \n",
       "...            ...                       ...  \n",
       "40644         True  Adventure, RPG, Strategy  \n",
       "40645         True  Adventure, RPG, Strategy  \n",
       "40646         True  Adventure, RPG, Strategy  \n",
       "40647         True  Adventure, RPG, Strategy  \n",
       "40648         True  Adventure, RPG, Strategy  \n",
       "\n",
       "[40649 rows x 4 columns]"
      ]
     },
     "execution_count": 46,
     "metadata": {},
     "output_type": "execute_result"
    }
   ],
   "source": [
    "steam = pd.read_csv(\"Steam_Reviews.csv\")\n",
    "steam"
   ]
  },
  {
   "cell_type": "code",
   "execution_count": 47,
   "metadata": {},
   "outputs": [
    {
     "name": "stdout",
     "output_type": "stream",
     "text": [
      "There are 97 games and a total of 40649 reviews\n"
     ]
    }
   ],
   "source": [
    "print(\"There are\", steam[\"Game\"].nunique(), \"games and a total of\", steam.__len__(),\"reviews\")"
   ]
  },
  {
   "cell_type": "markdown",
   "metadata": {},
   "source": [
    "# Text Pre Processing"
   ]
  },
  {
   "cell_type": "code",
   "execution_count": null,
   "metadata": {},
   "outputs": [
    {
     "name": "stderr",
     "output_type": "stream",
     "text": [
      "[nltk_data] Downloading package wordnet to /Users/gergoar/nltk_data...\n",
      "[nltk_data]   Package wordnet is already up-to-date!\n"
     ]
    }
   ],
   "source": [
    "import os\n",
    "import re\n",
    "import csv\n",
    "import sys\n",
    "import subprocess\n",
    "import pandas as pd\n",
    "import numpy as np\n",
    "import matplotlib.pyplot as plt\n",
    "import matplotlib.dates as mdates\n",
    "import seaborn as sns\n",
    "import nltk\n",
    "from nltk.tokenize import word_tokenize\n",
    "from nltk.stem import WordNetLemmatizer, SnowballStemmer, PorterStemmer\n",
    "from nltk.corpus import stopwords\n",
    "import spacy\n",
    "from matplotlib import pyplot as plt\n",
    "from sklearn.feature_extraction.text import TfidfTransformer, CountVectorizer, TfidfVectorizer\n",
    "from sklearn.decomposition import TruncatedSVD\n",
    "from tqdm import tqdm\n",
    "\n",
    "from scipy.stats import pearsonr\n",
    "\n",
    "# Function to download NLTK resources\n",
    "def download_nltk_resources():\n",
    "    required_resources = ['wordnet', 'stopwords', 'punkt']\n",
    "    for resource in required_resources:\n",
    "        try:\n",
    "            nltk.data.find(f'tokenizers/{resource}' if resource == 'punkt' else f'corpora/{resource}')\n",
    "        except LookupError:\n",
    "            nltk.download(resource)\n",
    "\n",
    "download_nltk_resources()\n",
    "\n",
    "# Function to install and load spaCy model\n",
    "def install_spacy_model(model_name):\n",
    "    try:\n",
    "        return spacy.load(model_name)\n",
    "    except OSError:\n",
    "        print(f\"Downloading spaCy model: {model_name}\")\n",
    "        subprocess.check_call([sys.executable, \"-m\", \"spacy\", \"download\", model_name])\n",
    "        return spacy.load(model_name)\n",
    "\n",
    "sp = install_spacy_model('en_core_web_sm')\n",
    "\n",
    "# Enable tqdm for pandas\n",
    "tqdm.pandas()\n",
    "\n",
    "# Initialize stemmers and lemmatizer\n",
    "porter = SnowballStemmer(\"english\")\n",
    "lmtzr = WordNetLemmatizer()\n",
    "STOP_WORDS = set(stopwords.words('english'))\n"
   ]
  },
  {
   "cell_type": "code",
   "execution_count": 49,
   "metadata": {},
   "outputs": [],
   "source": [
    "\"\"\"\n",
    "This module provides helper functions for text preprocessing. \n",
    "Each function applies punctuation removal and stopword removal, and then one of three options:\n",
    "    0: Lowercasing only.\n",
    "    1: Lowercasing plus stemming.\n",
    "    2: Lemmatizing (using spaCy; original casing is preserved).\n",
    "\n",
    "The functions return a string of tokens separated by spaces.\n",
    "\"\"\"\n",
    "\n",
    "\n",
    "def preprocess_lower(text):\n",
    "    \"\"\"\n",
    "    Preprocess text by:\n",
    "       - Converting to lowercase.\n",
    "       - Removing punctuation.\n",
    "       - Tokenizing.\n",
    "       - Removing stopwords.\n",
    "    \n",
    "    Returns:\n",
    "        str: A string of filtered tokens separated by spaces.\n",
    "    \"\"\"\n",
    "    text_lower = text.lower()\n",
    "    text_no_punct = re.sub(r'[^\\w\\s]', '', text_lower)\n",
    "    tokens = word_tokenize(text_no_punct)\n",
    "    filtered_tokens = [token for token in tokens if token not in STOP_WORDS]\n",
    "    return \" \".join(filtered_tokens)\n",
    "\n",
    "def preprocess_stem(text):\n",
    "    \"\"\"\n",
    "    Preprocess text by performing all steps in preprocess_lower() and then applying stemming.\n",
    "    \n",
    "    Returns:\n",
    "        str: A string of stemmed tokens separated by spaces.\n",
    "    \"\"\"\n",
    "    tokens = preprocess_lower(text).split()\n",
    "    ps = PorterStemmer()\n",
    "    stemmed_tokens = [ps.stem(token) for token in tokens]\n",
    "    return \" \".join(stemmed_tokens)\n",
    "\n",
    "\n",
    "# Function to remove emojis and special characters\n",
    "def clean_text(text):\n",
    "    text = re.sub(r'\\[.*?\\]', '', text)  # Remove HTML-like tags [b], [i], etc.\n",
    "    text = re.sub(r'[^a-zA-Z0-9\\s]', '', text)  # Keeps letters, numbers, and spaces\n",
    "    return text\n",
    "\n",
    "# Updated preprocess_lemma function\n",
    "def preprocess_lemma(text):\n",
    "    \"\"\"\n",
    "    Preprocess text by:\n",
    "       - Removing special characters, emojis, and HTML tags.\n",
    "       - Lemmatizing the text using spaCy.\n",
    "       - Keeping only alphabetic words (removes numbers & symbols).\n",
    "    \n",
    "    Returns:\n",
    "        str: A string of lemmatized words separated by spaces.\n",
    "    \"\"\"\n",
    "    # Load spaCy model\n",
    "    nlp = spacy.load(\"en_core_web_sm\")\n",
    "    text = clean_text(text)  # Remove special characters\n",
    "    doc = nlp(text)  # Process text with spaCy\n",
    "    lemmatized_tokens = [token.lemma_ for token in doc if not token.is_stop and token.is_alpha]  # Keep only words\n",
    "    return \" \".join(lemmatized_tokens)\n",
    "\n",
    "\n",
    "\n",
    "def tokenize(text, mode=0):\n",
    "    \"\"\"\n",
    "    General tokenize function. Always applies punctuation and stopword removal and then:\n",
    "    \n",
    "      mode = 0: Applies lowercasing.\n",
    "      mode = 1: Applies lowercasing and stemming.\n",
    "      mode = 2: Applies lemmatization (without lowercasing the original text).\n",
    "    \n",
    "    Args:\n",
    "        text (str): The input text to be processed.\n",
    "        mode (int): Processing mode (0 for lowercasing; 1 for stemming; 2 for lemmatizing).\n",
    "\n",
    "    Returns:\n",
    "        str: A string of processed tokens separated by spaces.\n",
    "\n",
    "    Raises:\n",
    "        ValueError: If an invalid mode is provided.\n",
    "    \"\"\"\n",
    "    if mode == 0:\n",
    "        return preprocess_lower(text)\n",
    "    elif mode == 1:\n",
    "        return preprocess_stem(text)\n",
    "    elif mode == 2:\n",
    "        return preprocess_lemma(text)\n",
    "    else:\n",
    "        raise ValueError(\"Invalid mode. Please use 0 for lowercasing, 1 for stemming, or 2 for lemmatizing.\")"
   ]
  },
  {
   "cell_type": "code",
   "execution_count": 53,
   "metadata": {},
   "outputs": [
    {
     "name": "stdout",
     "output_type": "stream",
     "text": [
      "Original Review:\n",
      "🌀 Portal 2 – A Timeless Masterpiece of Puzzle and Wit 🎭\n",
      "🔹 Developer: Valve\n",
      "🔹 Genre: Puzzle-Platformer\n",
      "🔹 Release Date: April 18, 2011\n",
      "🔹 Platforms: PC, PS3, Xbox 360, macOS, Linux\n",
      "\n",
      "✨ The Cake May Be a Lie, But the Brilliance is Real!\n",
      "Portal 2 isn’t just a game—it’s an intellectual playground that challenges your mind, tickles your funny bone, and immerses you in a world where physics, storytelling, and humor collide in perfect harmony. Valve took the innovative mechanics of the original Portal and expanded them into a fully fleshed-out masterpiece that still stands as one of the greatest games ever made.\n",
      "\n",
      "🧩 Gameplay – A Brain-Bending Work of Art\n",
      "At its core, Portal 2 is a first-person puzzle-platformer where you use the iconic Portal Gun to place two linked portals on surfaces, allowing for mind-bending traversal and puzzle-solving. But Valve went beyond simple portals:\n",
      "\n",
      "✅ New Mechanics – Exciting additions like Gels (speed, bounce, and portal-friendly surfaces), Light Bridges, Excursion Funnels, and Aerial Faith Plates elevate the puzzles to a whole new level.\n",
      "✅ Perfectly Paced Difficulty – The game introduces new mechanics gradually, ensuring you feel like a genius with every challenge you overcome.\n",
      "✅ Co-op Mode – The two-player cooperative campaign is an entirely separate story where teamwork is essential, leading to some of the best cooperative puzzle-solving in gaming history.\n",
      "\n",
      "🤖 Story & Characters – Witty, Dark, and Unforgettable\n",
      "Valve infused Portal 2 with one of the most brilliant narratives in gaming, blending dark humor, mystery, and sci-fi intrigue into a seamless experience.\n",
      "\n",
      "🎙️ GLaDOS (Ellen McLain) – The return of gaming’s most iconic AI villain is pure gold. Her sarcastic, passive-aggressive humor is sharper than ever, making her both a terrifying and hilarious presence.\n",
      "💡 Wheatley (Stephen Merchant) – The bumbling, dim-witted AI core brings comedic genius to the game, leading to some of the funniest dialogue ever written.\n",
      "🏢 Aperture Science’s History – The deeper dive into the Aperture Science facility and the tragic (yet hilarious) history of Cave Johnson (J.K. Simmons) adds layers of intrigue and absurdity to the world.\n",
      "\n",
      "This isn’t just a puzzle game—it’s an intelligent, character-driven story with twists, turns, and unforgettable moments.\n",
      "\n",
      "🎶 Soundtrack & Atmosphere – Immersion at Its Finest\n",
      "🎵 Mike Morasky’s soundtrack is both eerie and mesmerizing, dynamically adjusting to your actions. And let’s not forget the legendary ending song, “Want You Gone,” which is just as iconic as Still Alive from the first game.\n",
      "\n",
      "The level design is stunning, transitioning from pristine test chambers to the rusty, forgotten depths of Aperture Science, making every environment feel unique and alive.\n",
      "\n",
      "🏆 Verdict – A Perfect 10/10 Experience\n",
      "✅ Mind-blowing puzzles that never feel repetitive.\n",
      "✅ A hilarious, dark, and brilliantly written story.\n",
      "✅ One of the best AI characters ever created.\n",
      "✅ Innovative co-op mode that enhances the experience.\n",
      "✅ Timeless design that still feels fresh today.\n",
      "\n",
      "🔹 Whether you’re playing Portal 2 for the first time or revisiting it after years, the game never loses its magic. It’s more than just a puzzle game—it’s an experience that sticks with you long after the credits roll.\n",
      "\n",
      "🎖️ Final Score: 10/10 – A Masterpiece That Will Never Be Forgotten! 🚀\n",
      "\n",
      "🌀 “When life gives you lemons, don’t make lemonade. Make life take the lemons back!” 🍋\n",
      "\n",
      "Processed Review:\n",
      "portal Timeless Masterpiece Puzzle Wit Developer Valve Genre PuzzlePlatformer Release Date April Platforms PC PS Xbox macOS Linux Cake lie Brilliance Real Portal not gameit intellectual playground challenge mind tickle funny bone immerse world physics storytelling humor collide perfect harmony Valve take innovative mechanic original Portal expand fully fleshedout masterpiece stand great game Gameplay BrainBending Work Art core Portal firstperson puzzleplatformer use iconic Portal Gun place link portal surface allow mindbende traversal puzzlesolve Valve go simple portal New Mechanics exciting addition like Gels speed bounce portalfriendly surface Light Bridges Excursion Funnels Aerial Faith Plates elevate puzzle new level perfectly pace Difficulty game introduce new mechanic gradually ensure feel like genius challenge overcome Coop Mode twoplayer cooperative campaign entirely separate story teamwork essential lead good cooperative puzzlesolving game history Story Characters Witty Dark Unforgettable Valve infuse Portal brilliant narrative game blend dark humor mystery scifi intrigue seamless experience GLaDOS Ellen McLain return gaming iconic AI villain pure gold sarcastic passiveaggressive humor sharp make terrifying hilarious presence Wheatley Stephen Merchant bumbling dimwitte AI core bring comedic genius game lead funniest dialogue write Aperture Sciences history deep dive Aperture Science facility tragic hilarious history Cave Johnson JK Simmons add layer intrigue absurdity world not puzzle gameit intelligent characterdriven story twist turn unforgettable moment Soundtrack Atmosphere Immersion Finest Mike Moraskys soundtrack eerie mesmerize dynamically adjust action lets forget legendary ending song want go iconic alive game level design stunning transitioning pristine test chamber rusty forget depth Aperture Science make environment feel unique alive Verdict Perfect experience mindblowing puzzle feel repetitive hilarious dark brilliantly write story good AI character create innovative coop mode enhance experience Timeless design feel fresh today play Portal time revisit year game lose magic puzzle gameit experience stick long credit roll Final Score Masterpiece Forgotten life give lemon not lemonade life lemon\n"
     ]
    }
   ],
   "source": [
    "# Select a specific review that has special characters\n",
    "test_review = steam.loc[3076, \"Review\"]  # Row index we want to test\n",
    "\n",
    "print(\"Original Review:\")\n",
    "print(test_review)\n",
    "\n",
    "# Apply the function to one review\n",
    "processed_test_review = preprocess_lemma(test_review)\n",
    "\n",
    "print(\"\\nProcessed Review:\")\n",
    "print(processed_test_review)\n",
    "\n"
   ]
  },
  {
   "cell_type": "code",
   "execution_count": 50,
   "metadata": {},
   "outputs": [
    {
     "name": "stderr",
     "output_type": "stream",
     "text": [
      " 34%|███▎      | 13705/40649 [2:01:31<1:48:36,  4.13it/s]    "
     ]
    }
   ],
   "source": [
    "#Getting the clean text column\n",
    "mod=2 #Lemmatizing\n",
    "\n",
    "# Pre-process the text column with progress tracking\n",
    "try:\n",
    "    steam[\"cleaned_review\"] = steam[\"Review\"].progress_apply(lambda x: tokenize(str(x), mod))\n",
    "    print(\"Done processing text.\")\n",
    "except Exception as e:\n",
    "    print(f\"Error processing text column: {e}\")\n",
    "    sys.exit(1)\n"
   ]
  },
  {
   "cell_type": "code",
   "execution_count": 40,
   "metadata": {},
   "outputs": [
    {
     "data": {
      "application/vnd.microsoft.datawrangler.viewer.v0+json": {
       "columns": [
        {
         "name": "index",
         "rawType": "int64",
         "type": "integer"
        },
        {
         "name": "Game",
         "rawType": "object",
         "type": "string"
        },
        {
         "name": "Review",
         "rawType": "object",
         "type": "unknown"
        },
        {
         "name": "Recommended",
         "rawType": "bool",
         "type": "boolean"
        },
        {
         "name": "Genre",
         "rawType": "object",
         "type": "string"
        },
        {
         "name": "cleaned_review",
         "rawType": "object",
         "type": "string"
        }
       ],
       "conversionMethod": "pd.DataFrame",
       "ref": "a106f461-2dd6-4a63-a5cf-ba7bdc1bc09f",
       "rows": [
        [
         "0",
         "Company of Heroes 3",
         "I still believe CoH2 is the superior choice currently, if you haven't tried/gotten used to the new QoLs in this game. These are all the currently main issues that affect me as a PVE only player.\n\n1. AI sucks, they're really easy to predict and usually only have a single build order. For example, they have a fixed rule of \"if vehicle is less than 20% hp, retreat to base regardless of situation\" and since the AI can see through FOW, units sometimes cower in cover before you see them, tanks run to the edges of the map.\n2. Modding has been severely limited in this game intentionally, leading to some mod devs to even choose to stay with CoH2.\n3. Worse atmosphere and audio, the lighting just seems off, voicelines are not memorable and some are recycled between units. We had faction specific main menu music, battle and victory themes in CoH2, it's the same every faction every game in CoH3.\n4. The new dlc, they are charging us half the price of the base game. Personally, even if this was a F2P game, locking more than half of the heavy tanks behind a dlc feels scummy. (DLC contains Pershing, Elefant, King Tiger and Churchill Crocodile. Base contains Churchill, it's variant Black Prince and Tiger.)\n5. The new CoH3 merit system. Complete challenges and supposedly earn battlegroups (the DLCs) and skins with the in game merit currency system. This was changed recently, battlegroups are now not earnable, the skin shop is just sad with very limited choices. Hundreds of hours spent on the merit challenges just to have the main reward silently taken away, mentioned only in one update post.\n\nMost of my time spent in CoH3 was earning merit challenges in boring games whereas in CoH2 I played for fun. At least for VS Ai players, I highly recommend staying with/getting CoH2 with mods. I cannot recommend enough All Units (170 added) mod by SneakEye and avoiding CoH3 for now.",
         "False",
         "Action, Strategy",
         "believe CoH2 superior choice currently try get new QoLs game currently main issue affect PVE player 1 AI suck easy predict usually single build order example fix rule vehicle 20 hp retreat base regardless situation AI FOW unit cower cover tank run edge map 2 modding severely limit game intentionally lead mod devs choose stay CoH2 3 bad atmosphere audio lighting voiceline memorable recycle unit faction specific main menu music battle victory theme CoH2 faction game CoH3 4 new dlc charge half price base game personally f2p game lock half heavy tank dlc feel scummy DLC contain Pershing Elefant King Tiger Churchill Crocodile base contain Churchill variant Black Prince Tiger 5 new CoH3 merit system complete challenge supposedly earn battlegroup DLCs skin game merit currency system change recently battlegroup earnable skin shop sad limited choice hundred hour spend merit challenge main reward silently take away mention update post time spend CoH3 earn merit challenge boring game CoH2 play fun VS Ai player highly recommend stay get CoH2 mod recommend unit 170 add mod SneakEye avoid CoH3"
        ],
        [
         "1",
         "Company of Heroes 3",
         "I Pre-ordered the premium edition version of this game after putting hundreds of hours into COH2, a game that i loved and enjoyed for years... From the fun and re-playable coop missions to the almost overwhelming choice of commander/battlegroups... then COH3 releases and i could not feel more disappointed at state of the game. Absolutely pathetic choice of battlegroups, ZERO coop missions and not a sign or trace of seeing those glorious coop missions that we as a fanbase got to experience in COH2 anytime soon...  SHAME ON YOU RELIC! \n\nAfter over 2 years of updates and bugfixes to make it somewhat enjoyable they release the FIRE AND STEEL DLC that is 32.49$ CAD..... all of these battlegroups should be added to the base game. Absolute MONEY-GRABBING game development tactics.                                                SHAME ON YOU RELIC!\n\nThe devs should compensate the players who bought the premium addition and spent 20$ on the absolute Dinosaur doo-doo pile called HAMMER AND SHIELD and give them DLC for free. \n\nThis game should have been released in early access with a 29.99 price tag.. pathetic. Even with the sour taste of Relics failures in my mouth i still continue playing COH3 while the RELIC slowly works towards giving us what should have been a finished product 2 years ago.\n\n                                                                                   SHAME ON YOU RELIC!",
         "False",
         "Action, Strategy",
         "Pre order premium edition version game put hundred hour COH2 game love enjoy year fun playable coop mission overwhelming choice commander battlegroup COH3 release feel disappointed state game absolutely pathetic choice battlegroup ZERO coop mission sign trace see glorious coop mission fanbase get experience COH2 anytime soon shame RELIC 2 year update bugfixe somewhat enjoyable release FIRE STEEL dlc 32.49 $ CAD battlegroup add base game absolute money grab game development tactic shame RELIC devs compensate player buy premium addition spend 20 $ absolute Dinosaur doo doo pile call HAMMER SHIELD DLC free game release early access 29.99 price tag pathetic sour taste Relics failure mouth continue play COH3 RELIC slowly work give finished product 2 year ago shame RELIC"
        ],
        [
         "2",
         "Company of Heroes 3",
         "An underwhelming, expensive cash grab. Very low content, super meta units, very high prices and insanely low grade DLC that cost 1/3 or 1/2 the price of the game. Awful balancing for multiplayer.",
         "False",
         "Action, Strategy",
         "underwhelming expensive cash grab low content super meta unit high price insanely low grade DLC cost 1/3 1/2 price game awful balance multiplayer"
        ],
        [
         "3",
         "Company of Heroes 3",
         "Here is my actual review. COH3 has the best QoL in the franchise. SO much so I stopped playing COH1 and 2. Both are favorites to me. But COH3 just feels better. Balance is in a much better state as well as the game. The game is taking longer to reach where it needs to be now with a smaller team, but it is a team that cares. This game received too much hate on launch because people compared to an almost 20 year old coh1, and a 10+ year old COH2. But base game to base game COH3 had so much more content than either game on launch. And its bolstered on to it.\n\nWith new commanders coming it should breath new life into the game. Relic has been doing a great job to the improvement of the game. It is personally my favorite RTS to date. I highly suggest you try this game, and do it with an open mind as its style does differ from traditional coh titles. But once you grasp it, it just becomes that much more fun then it ever was before.\n\nThe only thing COH3 is lacking is commander diversity which will come in time, and once we hit that level of content, COH1 and 2 will become completely irrelevant. So give it a try, do so with an open mind, and lets keep our beloved franchise alive!",
         "True",
         "Action, Strategy",
         "actual review COH3 good qol franchise stop play COH1 2 favorite COH3 feel well balance well state game game take long reach need small team team care game receive hate launch people compare 20 year old coh1 10 + year old COH2 base game base game COH3 content game launch bolster new commander come breath new life game Relic great job improvement game personally favorite RTS date highly suggest try game open mind style differ traditional coh title grasp fun thing COH3 lack commander diversity come time hit level content COH1 2 completely irrelevant try open mind let beloved franchise alive"
        ],
        [
         "4",
         "Company of Heroes 3",
         "They listed my GPU as supported and then quietly patched out support back in the first year, well after the refund window had passed. Absolutely heinous rug pull from a heinous company. This hot garbage is just stuck in my steam library but just crashes and they intend to do nothing about it. Money genuinely stolen.",
         "False",
         "Action, Strategy",
         "list GPU support quietly patch support year refund window pass absolutely heinous rug pull heinous company hot garbage stick steam library crash intend money genuinely steal"
        ],
        [
         "5",
         "Company of Heroes 3",
         "     Even with worse graphic....Coh 2 is better in many area. And now with the pay wall to access heavy tank for late game with fire and steel dlc....this is such a bad move. If you main US force you just got slap in the face. It's like playing red alert and you can't build a kirov or apocalypse tank. Yeah yeah....you can field more medium tank. But any player that worth their salt will win in a material trade with a heavy tank survivability.  \n\n     I restrain myself for put this game into a negative review since launch. Because i know relic can do better. So I waited....with faith. But now? With this DLC practice? Here you go. You done it this time.",
         "False",
         "Action, Strategy",
         "bad graphic coh 2 well area pay wall access heavy tank late game fire steel dlc bad main force get slap face like play red alert build kirov apocalypse tank yeah yeah field medium tank player worth salt win material trade heavy tank survivability restrain game negative review launch know relic well wait faith DLC practice time"
        ],
        [
         "6",
         "Company of Heroes 3",
         "I resisted for quite a while to buy this game as I didn't expect the game to be much different than CoH2...\n\nFinally remembered to play it for free during promotion days and after one evening I went and bought it.\n\nGame feels faster as the units are quicker to die, base building no longer requires engineers which feels nice and efficient and all in all the game feels surprisingly different compared to the predecessors while at the same time being even more fun.\n\nSure... It's not CoH 1 or 2... But if I want to play those, I actually go and play those so it's nice to see Relic still innovating and producing sequels that feel worthy of an actual new game.",
         "True",
         "Action, Strategy",
         "resist buy game expect game different CoH2 finally remember play free promotion day evening go buy Game feel fast unit quick die base building long require engineer feel nice efficient game feel surprisingly different compare predecessor time fun sure CoH 1 2 want play actually play nice Relic innovate produce sequel feel worthy actual new game"
        ],
        [
         "7",
         "Company of Heroes 3",
         "Latest patch with the v1 makes anything other then 1v1 a nightmare.\n\nWould not recommend unless you only play it for the 1v1.\n\nAlso, if you got any kind of hearing impairment, dont play allies. \nThe V1 doesnt signal when launched other than a low sound thats barely audible.",
         "False",
         "Action, Strategy",
         "late patch v1 make 1v1 nightmare recommend play 1v1 get kind hearing impairment not play ally v1 not signal launch low sound s barely audible"
        ],
        [
         "8",
         "Company of Heroes 3",
         "The game does not work. I tried playing the game and the player models are in t-post stance. I also can not move my units it selected locations.",
         "False",
         "Action, Strategy",
         "game work try play game player model t post stance unit select location"
        ],
        [
         "9",
         "Company of Heroes 3",
         "Final Thoughts\nCompany of Heroes 3 is a stunning evolution of the series, blending innovative features with the traditional tactical brilliance that fans have come to expect. The dynamic campaign, enhanced combat mechanics, and breathtaking visuals make it one of the best real-time strategy games available today. Whether you're a long-time fan or a newcomer to the series, Company of Heroes 3 delivers an experience that is both deeply strategic and incredibly rewarding.\n\nRelic Entertainment has once again proven why Company of Heroes remains one of the gold standards in the RTS genre. If you’re a fan of military strategy games, this is a title you absolutely cannot miss.",
         "True",
         "Action, Strategy",
         "final Thoughts Company Heroes 3 stunning evolution series blend innovative feature traditional tactical brilliance fan come expect dynamic campaign enhance combat mechanic breathtaking visual good real time strategy game available today long time fan newcomer series Company Heroes 3 deliver experience deeply strategic incredibly rewarding Relic Entertainment prove Company Heroes remain gold standard RTS genre fan military strategy game title absolutely miss"
        ],
        [
         "10",
         "Company of Heroes 3",
         "Fixes after fixes have been released, but even the fundamental bugs have not been fixed at all.\r\n\r\nThe Anzio landing bug has existed since the initial game release, but after a few years, it has still not been fixed, and new bugs have even been introduced.\r\n\r\nThis ain't Company of Heroes 3, but it's Bugs of Zero 3.\r\nThis game is so lame, and so much disappointing.",
         "False",
         "Action, Strategy",
         "fix fix release fundamental bug fix Anzio landing bug exist initial game release year fix new bug introduce be Company Heroes 3 bug Zero 3 game lame disappointing"
        ],
        [
         "11",
         "Company of Heroes 3",
         "I can kinda see where they were trying to go with this newer rendition of the game, but as it stands, the developers ruined what made the CoH2 fun. \n\nWhy let me build tank traps to block vehicles if heavier tanks can just drive through them? Relic essentially took away your ability to bottleneck and focus defenses on one sector and instead forces you to play like a hotkey maniac. \n\nGraphically, it does not feel like a WW2 game either. It is very bright and colorful without the gritty vibe of CoH2. It looks and feels more like an arcade game to be honest.\n\nOverall, the game feels like it was not designed for who was playing it before. It looks like Relic wanted a different platform that would allow them to monetize the shit out of it for a more hyper sweaty audience (like they want to be the WW2 version of Starcraft or something).\n\n",
         "False",
         "Action, Strategy",
         "kinda try new rendition game stand developer ruin CoH2 fun let build tank trap block vehicle heavy tank drive Relic essentially take away ability bottleneck focus defense sector instead force play like hotkey maniac graphically feel like WW2 game bright colorful gritty vibe CoH2 look feel like arcade game honest Overall game feel like design play look like Relic want different platform allow monetize shit hyper sweaty audience like want WW2 version Starcraft"
        ],
        [
         "12",
         "Company of Heroes 3",
         "I would love to recommend this game, but in its current state, I can't.\n\nWhy? Is it because the game isn't finished enough? \nWell kinda, but that's not my biggest issue with it.\n\n\nThe biggest issue is the cost. It's a very expensive game for what you get for it, and additionally, most of the content being added isn't included in the base game, but rather is half as expensive as the already-too-expensive game itself. Then to consider the fact that if you want a single 'battlegroup' as it were, you have to pay for other ones you may have zero interest in playing with, or trying. You HAVE TO pay for those other ones, to access the one you may want. \n\nBut what about the gameplay?\n\nIt's actually fun, in pvp. Unlike in CoH2 where players would always try to rush tanks and they would be nearly unstoppable, it's worth considering that the tanks are actually a lot more receptive to damage, especially from flanking, which makes positioning way more important than in previous titles (although it was important then as well). There are handy new QoL improvements, although your muscle memory of pressing T to retreat will get your squads killed because that standard button is now R. I'm not saying you CAN'T rush tanks and be unstoppable, but when you're getting your first tanks out, you have to be more careful with them, because infantry can do some serious damage, given the right equipment. \n\nI will say though, the Axis powers feel somewhat weak compared to their predecessors. I mean, where's the panzershreks? (Locked behind a paywall!)\n\nNow, onto the state of the game: \n\nIt's fun, but again, it feels unfinished. This is especially disappointing because the game has now been out for 2 years. Instead of more content for players who paid for the overly expensive game, there's content being monetized at half the cost of the base game itself. Formerly free content is also poised to become 'not free' and cost roughly half of that cost before the end of the month, if you didn't claim it before then. \n\nI understand the need to continue to have cash flow in the business, but overcharging for everything isn't going to do you any favors with your consumers, because there's other games (including your own former title) that, in spite of its own flaws, has a... better monetization scheme. Instead of $30 battlegroups that contain several that you may never touch, consider CoH2, where commanders would cost something like $3-4, and there were already plenty of them that were accessible to players who only owned the base game (not including the problematic nature of only having 2 of the factions available to play for free). \n\nLower the costs. Friends of mine tried the free weekend and refuse to pay the extreme cost of the game, even at a 50% discount due to how predatory the cost is, for what included content is available.",
         "False",
         "Action, Strategy",
         "love recommend game current state game finish kinda big issue big issue cost expensive game additionally content add include base game half expensive expensive game consider fact want single battlegroup pay one zero interest play try pay one access want gameplay actually fun pvp unlike CoH2 player try rush tank nearly unstoppable worth consider tank actually lot receptive damage especially flanking make position way important previous title important handy new qol improvement muscle memory press t retreat squad kill standard button R. say can't rush tank unstoppable get tank careful infantry damage give right equipment axis power feel somewhat weak compare predecessor mean panzershrek lock paywall state game fun feel unfinished especially disappointing game 2 year instead content player pay overly expensive game content monetize half cost base game free content poise free cost roughly half cost end month claim understand need continue cash flow business overcharge go favor consumer game include title spite flaw well monetization scheme instead $ 30 battlegroup contain touch consider CoH2 commander cost like $ 3 4 plenty accessible player own base game include problematic nature have 2 faction available play free low cost friend try free weekend refuse pay extreme cost game 50 discount predatory cost include content available"
        ],
        [
         "13",
         "Company of Heroes 3",
         "game has come a long way since release but can feel like a cash grab every time there is something added. new content is also very slow to come out. I have always loved COH and im still holding on for them to be better.",
         "True",
         "Action, Strategy",
         "game come long way release feel like cash grab time add new content slow come love COH m hold well"
        ],
        [
         "14",
         "Company of Heroes 3",
         "A great RTS that is going to get better with each major update - now is the time to start playing with the new DLC incoming. There are no other games like this on Steam!",
         "True",
         "Action, Strategy",
         "great RTS go well major update time start play new DLC incoming game like Steam"
        ],
        [
         "15",
         "Company of Heroes 3",
         "I only play multiplayer and have owned the game since launch.  The game started out in more of a beta state and took quite a while to get the game in a respectable balance state so this is partly why this game isn't as highly rated.  At this point, the game is in a good state and is fun to play. Would recommend you check it out if you enjoy RTS games.",
         "True",
         "Action, Strategy",
         "play multiplayer own game launch game start beta state take game respectable balance state partly game highly rate point game good state fun play recommend check enjoy RTS game"
        ],
        [
         "16",
         "Company of Heroes 3",
         "I purchased this game for the Christmas holidays last year. COH was one of my favorite franchises and I figured that there had been sufficient time since launch for the bugs of the game to get ironed out. Also, I really enjoy playing the campaign of the game, even if the story can be uneven at times. So, I was looking forward to spending some time on this game...\n\n...I wish I had returned it.\n\nThe campaign is dull, uninspired and a bug-filled mess. I finished the DAK campaign and it was a total bore, with not a lot of interesting things or scenarios to play out. The story was abysmal and the characters feel like caricature of historical figures/peoples. \n\nThe Italian Campaign was worse story-wise, but at least I thought that the skirmish-type gameplay and random scenarios were at least somewhat less monotonous. I was even starting to enjoy the game slightly - but then I ran into a bug where a city would continuously get attacked and defended, but even if I win the battle the city would remain in enemy hands. The balance is also extremely wonky - some maps are pushovers, some are deathmarches that have you lose even if you micro well as the AI seems like it never loses resources nor men to throw at you.\n\nExtremely disappointing - unless you really wanna play multiplayer, dont buy this game. Even then - COH2 is a much more polished product + cheap as chips nowadays.\n\nEDIT: This game was so disappointing that even though I hadn't played it for weeks - seeing it in my library as I was cleaning my storage pushed me to writet his negative review.",
         "False",
         "Action, Strategy",
         "purchase game Christmas holiday year COH favorite franchise figure sufficient time launch bug game iron enjoy play campaign game story uneven time look forward spend time game wish return campaign dull uninspired bug fill mess finish DAK campaign total bore lot interesting thing scenario play story abysmal character feel like caricature historical figure people italian Campaign bad story wise think skirmish type gameplay random scenario somewhat monotonous start enjoy game slightly run bug city continuously attack defend win battle city remain enemy hand balance extremely wonky map pushover deathmarche lose micro AI like lose resource man throw extremely disappointing wanna play multiplayer not buy game COH2 polished product + cheap chip nowadays EDIT game disappointing play week see library clean storage push writet negative review"
        ],
        [
         "17",
         "Company of Heroes 3",
         "if more developers continue to pursue the same development of Cash and grab, steam really needs to allow refunds for low hours.   i tried giving this game a chance, being a huge fan of COH series, over 1500 hours in COH1, this.... this is just a disgrace. to add salt in the wounds i bought the deluxe addition.",
         "False",
         "Action, Strategy",
         "developer continue pursue development cash grab steam need allow refund low hour try give game chance huge fan COH series 1500 hour COH1 disgrace add salt wound buy deluxe addition"
        ],
        [
         "18",
         "Company of Heroes 3",
         "I had almost two thousand hours combined in the first CoH. This game reminds me of an updated CoH1 with better graphics/visuals while improving gameplay mechanics.",
         "True",
         "Action, Strategy",
         "thousand hour combine coh. game remind update coh1 well graphic visual improve gameplay mechanic"
        ],
        [
         "19",
         "Company of Heroes 3",
         "Another great RTS game! The new theater of war would be an incredible addition to the game. It brings the Mediterranean and North African fronts to life, with the potential to explore entirely new regions, battles, and historical conflicts being vast.",
         "True",
         "Action, Strategy",
         "great RTS game new theater war incredible addition game bring Mediterranean north african front life potential explore entirely new region battle historical conflict vast"
        ],
        [
         "20",
         "Company of Heroes 3",
         "This was a complete dumpster fire at launch but it appears Relic have pulled off a miraculous recovery and fixed this with the 2.0 Update.\n\nCoH 3 channels the original game with some added unit variety. Ditto for unit gameplay and balance.\n\nIf only they could do the same for Dawn of War 3.",
         "True",
         "Action, Strategy",
         "complete dumpster fire launch appear Relic pull miraculous recovery fix 2.0 Update CoH 3 channel original game add unit variety ditto unit gameplay balance Dawn War 3"
        ],
        [
         "21",
         "Company of Heroes 3",
         "i would recommend it for a person that want to sit and relax on a single player campain, esspecialy when you  like ww2 stragety games just for fun and enjoymenent.",
         "True",
         "Action, Strategy",
         "recommend person want sit relax single player campain esspecialy like ww2 stragety game fun enjoymenent"
        ],
        [
         "22",
         "Company of Heroes 3",
         "As a veteran of all 3 installments of CoH, this is my favorite. Building upon the ground breaking features and gameplay from the original CoH, this game is a well rounded mix of previous games with the expected graphics and quality of life improvements for a recent release. Older reviews of this game detail the rocky start, but currently this game is really rolling. Developers have been releasing regular balance updates, additional gameplay features, new maps, improved enemy AI, etc. Steam Workshop support is also great for mod content, community made maps, and custom missions.\n\nThis franchise is a pillar of the RTS genre and CoH3 does not disappoint. Highly recommend!",
         "True",
         "Action, Strategy",
         "veteran 3 installment CoH favorite build ground break feature gameplay original CoH game rounded mix previous game expect graphic quality life improvement recent release old review game detail rocky start currently game roll developer release regular balance update additional gameplay feature new map improved enemy AI etc Steam Workshop support great mod content community map custom mission franchise pillar RTS genre CoH3 disappoint highly recommend"
        ],
        [
         "23",
         "Company of Heroes 3",
         "I've been a fan of coh & relic since the release of coh2.\nRelic have made considerable improvements in coh3, Love the game-play, audio and graphics but the main attraction, the multiplayer is just in a constant terrible state and I just can't recommend the game because of it.\n\nThere are two areas that just ruins multiplayer:\n[olist]\n[*] The cheats. Since the start of 2025, the number of exploits and cheats like fov expansion and fog of war removal has grown staggeringly. I come across this in every 2-3 matches and it's just a nuisance to play against. Artillery/Mortar on hidden units, nullifies your flanks, and then exploits your openings.\nRelic do have reporting system and claim to take action since the release of the fire & steel, but it's not the case, in fact, there is more cheats now than ever.  It is just not fun to play against. \n\nI don't like to throw accusations of cheats out there, but relics replay system and pov of the suspect makes it very easy to verify this, some don't even try to hid it in the first place... There have been numerous reddit posts about this and it's just so easy to cheat in this game it's wild. I will say cheats is THE biggest problem/hindrance for coh3 multiplayer \n\n[*]The unit exploits. It is no surprise to bring up blobbing in this franchise... but it is just sad in coh3. What's the point of diversifying units when you can just build 8 main line infantry, mgs, or any other of the same unit and throw them out all at once? I see it mainly with USF and riflemen (or rangers), Brits and crusaders, Werhm and mgs, Dakand Bersa. In low and high elo games there is no sense of strategy, just keep throwing a large volume of the same unit and you will have success.\n\nAt least in coh2 there were better counters to this, but Relic just can not find a way to balance this in coh3 despite them acknowledging the issue but making no real effort to solve it... It is a boring play style to play as or against in this game.\n[/olist]\n\nIn the end, I've always liked Relic as a studio, I do understand their constraints now being an independent studio and they do try to improve the game... but in the wrong way. Audio, graphics, new units etc have all been massively improved and gives a fresh breath, but the 2 foundational problems just ruins the experience and damages Relics efforts to get more people to contiinously play and support the game.",
         "False",
         "Action, Strategy",
         "fan coh relic release coh2 Relic considerable improvement coh3 love game play audio graphic main attraction multiplayer constant terrible state recommend game area ruin multiplayer olist cheat start 2025 number exploit cheat like fov expansion fog war removal grow staggeringly come 2 3 match nuisance play Artillery Mortar hidden unit nullifie flank exploit opening Relic report system claim action release fire steel case fact cheat fun play like throw accusation cheat relic replay system pov suspect make easy verify try hid place numerous reddit post easy cheat game wild cheat big problem hindrance coh3 multiplayer unit exploit surprise bring blob franchise sad coh3 point diversify unit build 8 main line infantry mgs unit throw mainly USF rifleman ranger Brits crusader Werhm mgs Dakand Bersa low high elo game sense strategy throw large volume unit success coh2 well counter Relic find way balance coh3 despite acknowledge issue make real effort solve boring play style play game /olist end like Relic studio understand constraint independent studio try improve game wrong way Audio graphic new unit etc massively improved give fresh breath 2 foundational problem ruin experience damage relic effort people contiinously play support game"
        ],
        [
         "24",
         "Company of Heroes 3",
         "Solid multiplayer experience, the game had some teething issues that are worked out now, and its the only new RTS of its kind out there right now",
         "True",
         "Action, Strategy",
         "solid multiplayer experience game teething issue work new RTS kind right"
        ],
        [
         "25",
         "Company of Heroes 3",
         "I have played the COH games since COH 1's release back in early 2000's. As an Average player on all of the COH games, I have to say hands down COH3 is by far the best version I have ever played, Mind you there are some good things that each had special to it as well as bad. COH3 has a lot of potential despite its immature release, it took a long time to get at where it is now but honestly props to the Dev's and staff of Relic as they had to earn there respect as an effective fun RTS Game Company. I have a lot of respect for relic and there hard work keep it up please. In the future I hope they start adding more utility to units and as well as more light medium vehicle option for example a Bren Carrier would be really cool for British. Any ways I give this game a thumbs up Im not going to thumbs down a game like COH3  like most have been because of there personal gripes. I know RTS games are not easy to create and balance  so be patient it takes time and it will get better over time like all the other COH's before, I know....",
         "True",
         "Action, Strategy",
         "play COH game COH 1 release early 2000 average player COH game hand COH3 far good version play mind good thing special bad COH3 lot potential despite immature release take long time honestly prop Dev staff Relic earn respect effective fun RTS Game Company lot respect relic hard work future hope start add utility unit light medium vehicle option example Bren Carrier cool British way game thumb m go thumbs game like COH3 like personal gripe know RTS game easy create balance patient take time well time like COH know"
        ],
        [
         "26",
         "Company of Heroes 3",
         "its good. Not as good as COH2, and doesn't reflect a full price game.",
         "True",
         "Action, Strategy",
         "good good COH2 reflect price game"
        ],
        [
         "27",
         "Company of Heroes 3",
         "It scratches the RTS itch. Gameplay is decent, and game's getting better every update.",
         "True",
         "Action, Strategy",
         "scratch RTS itch gameplay decent game get well update"
        ],
        [
         "28",
         "Company of Heroes 3",
         "It looks like a alpha game build, it does not look like a finished product. There are too few players as well, you will spend a long time looking for players and most of them aren't very good too, as a COH2 veteran the COH2 has a lot more stuff, take the camos for instance in COH3 they are totally random and there are some kind camos that only apply to one unit! It's not like COH2 where they can applied to all vehicles, which in a COH looks weird in a development point of view like:\"So the Fallen Leaf camo only applies to 3 tanks and like 2 infantry units?\"; \"So I can't apply camos to the Tiger or Panther or King Tiger in the Wehrmacht but I can apply for the Tiger in the Afrika Corps but not for thr Ferdinand?\". Which sounds dumb, we can clearly see that this was rushed through production and they have no talent left to fix it. And the AI still has that nasty habit of VIEWING THE ENTIRE MAP ALL THE TIME, which is game breaking at times:\"Oh look I am assembling all my forces here far from the line of sight of the enemy... is that a airstrike and an artillary strike in the middle of the formation?!\". In my opinion they should start fixing the Cosmetics and do them like in COH2, that system was a Work Of Art!! Instead of launching an expansion and keeping the same problems. Now they came a long way for the Zero Day COH3 which was a copy and paste of COH2, unstable, cartoony and goofy at times. There are things that are really cool like: the sound effects, some of the visual effects, death animnations, vehicle wreckages, but still it leaves much to be desired in the UI and AI. Just fix the Cosmetics by making camos available for every unit including the Call Ability ones; Fix the AI omniscience; And another thing that really bothers me like hell is when the vehicles treads do not match their speed and it looks like they are floating or sliding like on the King Tiger. I just bought the game and every content to help them out, maybe they really want to fix it.",
         "False",
         "Action, Strategy",
         "look like alpha game build look like finished product player spend long time look player good COH2 veteran COH2 lot stuff camos instance COH3 totally random kind camos apply unit like COH2 apply vehicle COH look weird development point view like:\"So Fallen Leaf camo apply 3 tank like 2 infantry unit apply camos Tiger Panther King Tiger Wehrmacht apply Tiger Afrika Corps thr Ferdinand sound dumb clearly rush production talent leave fix AI nasty habit view ENTIRE MAP TIME game break times:\"oh look assemble force far line sight enemy airstrike artillary strike middle formation opinion start fix Cosmetics like COH2 system work Art instead launch expansion keep problem come long way Zero Day COH3 copy paste COH2 unstable cartoony goofy time thing cool like sound effect visual effect death animnation vehicle wreckage leave desire UI AI fix Cosmetics make camos available unit include Ability one fix AI omniscience thing bother like hell vehicle tread match speed look like float slide like King Tiger buy game content help maybe want fix"
        ],
        [
         "29",
         "Company of Heroes 3",
         "After waiting a while for proper fixes and patches, this is a great game now. It’s a shame I had to wait a few years to jump in, but I’m glad I did.\n\nRelic, with all love y’all have got to work on your launch. First impressions are everything.",
         "True",
         "Action, Strategy",
         "wait proper fix patch great game shame wait year jump glad Relic love y’ get work launch impression"
        ],
        [
         "30",
         "Company of Heroes 3",
         "Very fun and addictive skirmish and multiplayer gameplay. Lots of different play styles.",
         "True",
         "Action, Strategy",
         "fun addictive skirmish multiplayer gameplay lot different play style"
        ],
        [
         "31",
         "Company of Heroes 3",
         "Tried it for the free weekend. Liked it so much i bought it.\r\n50% off and it feels like a solid purchase.\r\n\r\nLots of people dislike the campaigns turn based,  grand Strategy layer. But i found it well implemented.",
         "True",
         "Action, Strategy",
         "try free weekend like buy 50 feel like solid purchase lot people dislike campaign turn base grand strategy layer find implement"
        ],
        [
         "32",
         "Company of Heroes 3",
         "Really fun singleplayer campaign. The addition of the total war style grand campaign map, with skirmishes and missions taking place in the classic RTS game mode is a huge plus for me, and has given me a huge case of one-more-turn-itis. \nTried for free, ended up sinking roughly 13 hours into it and can safely say it is well worth the purchase.\n\nI can't speak to how the game was at launch, or to the multiplayer component, but at least for singleplayer everything seems top notch, the sound effects, graphics and gameplay are all immersive and satisfying.\n\nAdditionally, this game is the perfect compliment to the show Rogue Heroes, having just received it's second season, which is also a must watch if you are interested in this period.",
         "True",
         "Action, Strategy",
         "fun singleplayer campaign addition total war style grand campaign map skirmish mission take place classic RTS game mode huge plus give huge case turn itis try free end sink roughly 13 hour safely worth purchase speak game launch multiplayer component singleplayer notch sound effect graphic gameplay immersive satisfying additionally game perfect compliment Rogue Heroes having receive second season watch interested period"
        ],
        [
         "33",
         "Company of Heroes 3",
         "i like the new turn based parts of the campaigns and graphics are great",
         "True",
         "Action, Strategy",
         "like new turn base part campaign graphic great"
        ],
        [
         "34",
         "Company of Heroes 3",
         "Has better graphics, and QOL improvements over COH 2. UI has changed but i prefer COH 3 over COH 2.",
         "True",
         "Action, Strategy",
         "well graphic QOL improvement COH 2 UI change prefer COH 3 COH 2"
        ],
        [
         "35",
         "Company of Heroes 3",
         "Fan of COH since the beginning, purchased this game on PS5 and very disappointed it is no longer supported there. I knew I would have to get this game for pc before that even happened though. So far happy with the content provided and hope to continue seeing things added, maybe new campaigns would be nice also.",
         "True",
         "Action, Strategy",
         "Fan COH beginning purchase game PS5 disappointed long support know game pc happen far happy content provide hope continue see thing add maybe new campaign nice"
        ],
        [
         "36",
         "Company of Heroes 3",
         "The maps repeat a little too much which is unfortunate (although now they've fixed that and there are fan made maps), but the gameplay has kept me coming back time and time again. \r\nI love the sound effects and seeing things like tank shells and artillery shells bouncing off tank armor, and its satisfying when you get rushed by tanks, but your anti tank troops just shred them and kill enemy morale. \r\nThe destructible environments are really cool to watch as well - seeing buildings crumble after tanks hit them or seeing walls crumble when your tanks go through them. \r\nOverall its a really fun game to come back to time and time again.",
         "True",
         "Action, Strategy",
         "map repeat little unfortunate fix fan map gameplay keep come time time love sound effect see thing like tank shell artillery shell bounce tank armor satisfying rush tank anti tank troop shre kill enemy morale destructible environment cool watch see building crumble tank hit see wall crumble tank overall fun game come time time"
        ],
        [
         "37",
         "Company of Heroes 3",
         "Entertaining, almost arcade-like. Feels closer to the action than Warno or Regiments.",
         "True",
         "Action, Strategy",
         "entertaining arcade like feel close action Warno Regiments"
        ],
        [
         "38",
         "Company of Heroes 3",
         "Just purchased the game! I love RTS games, and this game does not disappoint! Developers are active and continue to improve game. Gameplay is very fun and even though I am a newb and don't know what I'm doing I am having a blast. Highly recommend.",
         "True",
         "Action, Strategy",
         "purchase game love RTS game game disappoint developer active continue improve game gameplay fun newb know have blast highly recommend"
        ],
        [
         "39",
         "Company of Heroes 3",
         "I have enjoyed this game since launch, even though it's had a rocky start. Now it feels like it's firing on all cylinders.",
         "True",
         "Action, Strategy",
         "enjoy game launch rocky start feel like fire cylinder"
        ],
        [
         "40",
         "Company of Heroes 3",
         "Good Game! Was very hesitant to purchase when released as the reviews then were rampant with comments like a half baked game and it wasn't ready for release. So I waited until last year when it was 50 percent off, and since then I can't complain at all. I currently have almost 200 hours on record and will have dozens more after this update.\n\nIf you have over 50, 100 hours you clearly like the game. For comparison, I can expect to spend 10 dollars for a fast-food meal, so 60/30 dollars for a game or 20ish for a DLC is well worth the money. With my current hours and current invest into the game averages out to 0.75 cents and hour. How much value are people really going to cry about? They also gave \n free content back then which was a great apology and discounted another DLC which was kinda lackluster albeit. \n\nAll in all a great game that I'll gladly support. RTS is not dead yet, but if we don't continue to support the Devs that constantly work on creating more content and updating their games, then we are destroying our own community.  We can't except them to constantly work for free. \n\nThere are so many games that are released, review bombed and subsequently dropped and abandoned. OR we complain that releases aren't pushed fast enough, or updates and DLC aren't made quick enough, well we can't have our cake and eat it too. It takes massive amounts of time, energy, effort and money to produce these games. \n\nIr you like RTS games, WW2 and multiple games pick this up you won't disappointed. \n\n\n",
         "True",
         "Action, Strategy",
         "Good Game hesitant purchase release review rampant comment like half bake game ready release wait year 50 percent complain currently 200 hour record dozen update 50 100 hour clearly like game comparison expect spend 10 dollar fast food meal 60/30 dollar game 20ish DLC worth money current hour current invest game average 0.75 cent hour value people go cry give free content great apology discount dlc kinda lackluster albeit great game gladly support RTS dead continue support devs constantly work create content update game destroy community constantly work free game release review bomb subsequently drop abandon complain release push fast update DLC quick cake eat take massive amount time energy effort money produce game ir like RTS game WW2 multiple game pick will disappoint"
        ],
        [
         "41",
         "Company of Heroes 3",
         "Great update!  Love the game and the new tanks!",
         "True",
         "Action, Strategy",
         "great update love game new tank"
        ],
        [
         "42",
         "Company of Heroes 3",
         "This game is a thrilling blend of intense combat, deep tactical mechanics and great visuals that cements its place as one of the finest WW2 real-time strategy games in recent memory. Multiplayer is especially fun in 4vs4, battles can become really epic and immersive. Rough start, but most of the problems are fixed in the past year.",
         "True",
         "Action, Strategy",
         "game thrilling blend intense combat deep tactical mechanic great visual cement place fine WW2 real time strategy game recent memory Multiplayer especially fun 4vs4 battle epic immersive rough start problem fix past year"
        ],
        [
         "43",
         "Company of Heroes 3",
         "Great game. Devs keep making good updates.",
         "True",
         "Action, Strategy",
         "great game devs make good update"
        ],
        [
         "44",
         "Company of Heroes 3",
         "The game is fun. overall a really enjoyable game. BUT...\n\nI Wish the developers add more vision range for most units. Its frustrating that most units' vision range is very very short (my guess is about 35 meters only). Comically short. This leads frustration and slow gameplay. The units are soo blind.\n\nThe Devs should try Increasing the vision range without affecting the current attack range.",
         "True",
         "Action, Strategy",
         "game fun overall enjoyable game wish developer add vision range unit frustrating unit vision range short guess 35 meter comically short lead frustration slow gameplay unit soo blind Devs try increase vision range affect current attack range"
        ],
        [
         "45",
         "Company of Heroes 3",
         "Incredible... so intense that I have to leave my military theme toys for good. The digital version is more fun to engage.",
         "True",
         "Action, Strategy",
         "incredible intense leave military theme toy good digital version fun engage"
        ],
        [
         "46",
         "Company of Heroes 3",
         "I've enjoyed what I've played so far. The multiplayer is the most fun. I'm excited for the 2.0 release tomorrow.",
         "True",
         "Action, Strategy",
         "enjoy play far multiplayer fun excited 2.0 release tomorrow"
        ],
        [
         "47",
         "Company of Heroes 3",
         "COH3 launched in a pretty funky state, but Relic has steadily layered in improvements to the point that I'd call this the quintessential COH experience. The campaign map stuff adds a lot of depth to the single player experience, and skirmishes/pvp bring me back to the glory days of COH1. Looking forward to the future of the game!",
         "True",
         "Action, Strategy",
         "COH3 launch pretty funky state Relic steadily layer improvement point quintessential COH experience campaign map stuff add lot depth single player experience skirmish pvp bring glory day COH1 look forward future game"
        ],
        [
         "48",
         "Company of Heroes 3",
         "Been playing COH from the beginning so I expected a lot from this latest installment It did startoff rocky and looked like a fast cashgrab. However with SEGA out of the picture there's been a huge change in the direction for the game. Excited to see where this will be in the next year.",
         "True",
         "Action, Strategy",
         "play COH beginning expect lot late installment startoff rocky look like fast cashgrab SEGA picture huge change direction game excited year"
        ],
        [
         "49",
         "Company of Heroes 3",
         "4v4 still wildly favours axis but the game is super fun. I had 2k hours in coh2 and I think this is a good successor. Combat is faster and more dynamic, and there's a bit more unit variety. Relic just needs to fix USF in 4v4 particularly. Also bring back the coh2 USF weapon rack system.",
         "True",
         "Action, Strategy",
         "4v4 wildly favour axis game super fun 2k hour coh2 think good successor combat fast dynamic bit unit variety Relic need fix USF 4v4 particularly bring coh2 USF weapon rack system"
        ]
       ],
       "shape": {
        "columns": 5,
        "rows": 40649
       }
      },
      "text/html": [
       "<div>\n",
       "<style scoped>\n",
       "    .dataframe tbody tr th:only-of-type {\n",
       "        vertical-align: middle;\n",
       "    }\n",
       "\n",
       "    .dataframe tbody tr th {\n",
       "        vertical-align: top;\n",
       "    }\n",
       "\n",
       "    .dataframe thead th {\n",
       "        text-align: right;\n",
       "    }\n",
       "</style>\n",
       "<table border=\"1\" class=\"dataframe\">\n",
       "  <thead>\n",
       "    <tr style=\"text-align: right;\">\n",
       "      <th></th>\n",
       "      <th>Game</th>\n",
       "      <th>Review</th>\n",
       "      <th>Recommended</th>\n",
       "      <th>Genre</th>\n",
       "      <th>cleaned_review</th>\n",
       "    </tr>\n",
       "  </thead>\n",
       "  <tbody>\n",
       "    <tr>\n",
       "      <th>0</th>\n",
       "      <td>Company of Heroes 3</td>\n",
       "      <td>I still believe CoH2 is the superior choice cu...</td>\n",
       "      <td>False</td>\n",
       "      <td>Action, Strategy</td>\n",
       "      <td>believe CoH2 superior choice currently try get...</td>\n",
       "    </tr>\n",
       "    <tr>\n",
       "      <th>1</th>\n",
       "      <td>Company of Heroes 3</td>\n",
       "      <td>I Pre-ordered the premium edition version of t...</td>\n",
       "      <td>False</td>\n",
       "      <td>Action, Strategy</td>\n",
       "      <td>Pre order premium edition version game put hun...</td>\n",
       "    </tr>\n",
       "    <tr>\n",
       "      <th>2</th>\n",
       "      <td>Company of Heroes 3</td>\n",
       "      <td>An underwhelming, expensive cash grab. Very lo...</td>\n",
       "      <td>False</td>\n",
       "      <td>Action, Strategy</td>\n",
       "      <td>underwhelming expensive cash grab low content ...</td>\n",
       "    </tr>\n",
       "    <tr>\n",
       "      <th>3</th>\n",
       "      <td>Company of Heroes 3</td>\n",
       "      <td>Here is my actual review. COH3 has the best Qo...</td>\n",
       "      <td>True</td>\n",
       "      <td>Action, Strategy</td>\n",
       "      <td>actual review COH3 good qol franchise stop pla...</td>\n",
       "    </tr>\n",
       "    <tr>\n",
       "      <th>4</th>\n",
       "      <td>Company of Heroes 3</td>\n",
       "      <td>They listed my GPU as supported and then quiet...</td>\n",
       "      <td>False</td>\n",
       "      <td>Action, Strategy</td>\n",
       "      <td>list GPU support quietly patch support year re...</td>\n",
       "    </tr>\n",
       "    <tr>\n",
       "      <th>...</th>\n",
       "      <td>...</td>\n",
       "      <td>...</td>\n",
       "      <td>...</td>\n",
       "      <td>...</td>\n",
       "      <td>...</td>\n",
       "    </tr>\n",
       "    <tr>\n",
       "      <th>40644</th>\n",
       "      <td>Baldur's Gate 3</td>\n",
       "      <td>It's not just a game! It's a whole story that ...</td>\n",
       "      <td>True</td>\n",
       "      <td>Adventure, RPG, Strategy</td>\n",
       "      <td>game story completely immerse primarily thank ...</td>\n",
       "    </tr>\n",
       "    <tr>\n",
       "      <th>40645</th>\n",
       "      <td>Baldur's Gate 3</td>\n",
       "      <td>It's the closest you're going to get to playin...</td>\n",
       "      <td>True</td>\n",
       "      <td>Adventure, RPG, Strategy</td>\n",
       "      <td>close go play DnD group friend willing sit pla...</td>\n",
       "    </tr>\n",
       "    <tr>\n",
       "      <th>40646</th>\n",
       "      <td>Baldur's Gate 3</td>\n",
       "      <td>verry gooood gammeeee. I slept on it for to lo...</td>\n",
       "      <td>True</td>\n",
       "      <td>Adventure, RPG, Strategy</td>\n",
       "      <td>verry gooood gammeeee sleep long finish ton co...</td>\n",
       "    </tr>\n",
       "    <tr>\n",
       "      <th>40647</th>\n",
       "      <td>Baldur's Gate 3</td>\n",
       "      <td>Funny wild magic sorceror Durge run made every...</td>\n",
       "      <td>True</td>\n",
       "      <td>Adventure, RPG, Strategy</td>\n",
       "      <td>funny wild magic sorceror Durge run turn cat t...</td>\n",
       "    </tr>\n",
       "    <tr>\n",
       "      <th>40648</th>\n",
       "      <td>Baldur's Gate 3</td>\n",
       "      <td>this game is amazing and a blast to play. ever...</td>\n",
       "      <td>True</td>\n",
       "      <td>Adventure, RPG, Strategy</td>\n",
       "      <td>game amazing blast play run diffrent</td>\n",
       "    </tr>\n",
       "  </tbody>\n",
       "</table>\n",
       "<p>40649 rows × 5 columns</p>\n",
       "</div>"
      ],
      "text/plain": [
       "                      Game                                             Review  \\\n",
       "0      Company of Heroes 3  I still believe CoH2 is the superior choice cu...   \n",
       "1      Company of Heroes 3  I Pre-ordered the premium edition version of t...   \n",
       "2      Company of Heroes 3  An underwhelming, expensive cash grab. Very lo...   \n",
       "3      Company of Heroes 3  Here is my actual review. COH3 has the best Qo...   \n",
       "4      Company of Heroes 3  They listed my GPU as supported and then quiet...   \n",
       "...                    ...                                                ...   \n",
       "40644      Baldur's Gate 3  It's not just a game! It's a whole story that ...   \n",
       "40645      Baldur's Gate 3  It's the closest you're going to get to playin...   \n",
       "40646      Baldur's Gate 3  verry gooood gammeeee. I slept on it for to lo...   \n",
       "40647      Baldur's Gate 3  Funny wild magic sorceror Durge run made every...   \n",
       "40648      Baldur's Gate 3  this game is amazing and a blast to play. ever...   \n",
       "\n",
       "       Recommended                     Genre  \\\n",
       "0            False          Action, Strategy   \n",
       "1            False          Action, Strategy   \n",
       "2            False          Action, Strategy   \n",
       "3             True          Action, Strategy   \n",
       "4            False          Action, Strategy   \n",
       "...            ...                       ...   \n",
       "40644         True  Adventure, RPG, Strategy   \n",
       "40645         True  Adventure, RPG, Strategy   \n",
       "40646         True  Adventure, RPG, Strategy   \n",
       "40647         True  Adventure, RPG, Strategy   \n",
       "40648         True  Adventure, RPG, Strategy   \n",
       "\n",
       "                                          cleaned_review  \n",
       "0      believe CoH2 superior choice currently try get...  \n",
       "1      Pre order premium edition version game put hun...  \n",
       "2      underwhelming expensive cash grab low content ...  \n",
       "3      actual review COH3 good qol franchise stop pla...  \n",
       "4      list GPU support quietly patch support year re...  \n",
       "...                                                  ...  \n",
       "40644  game story completely immerse primarily thank ...  \n",
       "40645  close go play DnD group friend willing sit pla...  \n",
       "40646  verry gooood gammeeee sleep long finish ton co...  \n",
       "40647  funny wild magic sorceror Durge run turn cat t...  \n",
       "40648               game amazing blast play run diffrent  \n",
       "\n",
       "[40649 rows x 5 columns]"
      ]
     },
     "execution_count": 40,
     "metadata": {},
     "output_type": "execute_result"
    }
   ],
   "source": [
    "steam"
   ]
  }
 ],
 "metadata": {
  "kernelspec": {
   "display_name": "3.11.9",
   "language": "python",
   "name": "python3"
  },
  "language_info": {
   "codemirror_mode": {
    "name": "ipython",
    "version": 3
   },
   "file_extension": ".py",
   "mimetype": "text/x-python",
   "name": "python",
   "nbconvert_exporter": "python",
   "pygments_lexer": "ipython3",
   "version": "3.11.9"
  }
 },
 "nbformat": 4,
 "nbformat_minor": 2
}
